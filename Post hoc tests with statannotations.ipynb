{
 "cells": [
  {
   "cell_type": "markdown",
   "id": "9972d28c-bc3e-48c8-a844-0c3523f0b157",
   "metadata": {},
   "source": [
    "## Kruskal-Wallis with Posthoc Dunn + statannotations\n",
    "\n",
    "In this notebook you can see how to implement a Kruskal-Wallis test with Posthoc Dunn and visualize the results using seaborn and statannotations. We'll also check how this is different than the Kruskal-Wallis test included in statannotations."
   ]
  },
  {
   "cell_type": "code",
   "execution_count": 1,
   "id": "d18611d2-9bec-4135-b5d0-ce0f89457937",
   "metadata": {},
   "outputs": [
    {
     "data": {
      "text/html": [
       "<div>\n",
       "<style scoped>\n",
       "    .dataframe tbody tr th:only-of-type {\n",
       "        vertical-align: middle;\n",
       "    }\n",
       "\n",
       "    .dataframe tbody tr th {\n",
       "        vertical-align: top;\n",
       "    }\n",
       "\n",
       "    .dataframe thead th {\n",
       "        text-align: right;\n",
       "    }\n",
       "</style>\n",
       "<table border=\"1\" class=\"dataframe\">\n",
       "  <thead>\n",
       "    <tr style=\"text-align: right;\">\n",
       "      <th></th>\n",
       "      <th>sepal length (cm)</th>\n",
       "      <th>sepal width (cm)</th>\n",
       "      <th>petal length (cm)</th>\n",
       "      <th>petal width (cm)</th>\n",
       "      <th>species</th>\n",
       "    </tr>\n",
       "  </thead>\n",
       "  <tbody>\n",
       "    <tr>\n",
       "      <th>0</th>\n",
       "      <td>5.1</td>\n",
       "      <td>3.5</td>\n",
       "      <td>1.4</td>\n",
       "      <td>0.2</td>\n",
       "      <td>setosa</td>\n",
       "    </tr>\n",
       "    <tr>\n",
       "      <th>1</th>\n",
       "      <td>4.9</td>\n",
       "      <td>3.0</td>\n",
       "      <td>1.4</td>\n",
       "      <td>0.2</td>\n",
       "      <td>setosa</td>\n",
       "    </tr>\n",
       "    <tr>\n",
       "      <th>2</th>\n",
       "      <td>4.7</td>\n",
       "      <td>3.2</td>\n",
       "      <td>1.3</td>\n",
       "      <td>0.2</td>\n",
       "      <td>setosa</td>\n",
       "    </tr>\n",
       "    <tr>\n",
       "      <th>3</th>\n",
       "      <td>4.6</td>\n",
       "      <td>3.1</td>\n",
       "      <td>1.5</td>\n",
       "      <td>0.2</td>\n",
       "      <td>setosa</td>\n",
       "    </tr>\n",
       "    <tr>\n",
       "      <th>4</th>\n",
       "      <td>5.0</td>\n",
       "      <td>3.6</td>\n",
       "      <td>1.4</td>\n",
       "      <td>0.2</td>\n",
       "      <td>setosa</td>\n",
       "    </tr>\n",
       "  </tbody>\n",
       "</table>\n",
       "</div>"
      ],
      "text/plain": [
       "   sepal length (cm)  sepal width (cm)  petal length (cm)  petal width (cm)  \\\n",
       "0                5.1               3.5                1.4               0.2   \n",
       "1                4.9               3.0                1.4               0.2   \n",
       "2                4.7               3.2                1.3               0.2   \n",
       "3                4.6               3.1                1.5               0.2   \n",
       "4                5.0               3.6                1.4               0.2   \n",
       "\n",
       "  species  \n",
       "0  setosa  \n",
       "1  setosa  \n",
       "2  setosa  \n",
       "3  setosa  \n",
       "4  setosa  "
      ]
     },
     "execution_count": 1,
     "metadata": {},
     "output_type": "execute_result"
    },
    {
     "data": {
      "application/javascript": [
       "\n",
       "            setTimeout(function() {\n",
       "                var nbb_cell_id = 1;\n",
       "                var nbb_unformatted_code = \"%load_ext nb_black\\nfrom sklearn.datasets import load_iris\\nimport pandas as pd\\nimport seaborn as sns\\nimport matplotlib.pyplot as plt\\nimport numpy as np\\n\\niris_obj = load_iris()\\niris_df = pd.DataFrame(iris_obj.data, columns=iris_obj.feature_names)\\n\\niris_df[\\\"species\\\"] = [iris_obj.target_names[s] for s in iris_obj.target]\\niris_df.head()\";\n",
       "                var nbb_formatted_code = \"%load_ext nb_black\\nfrom sklearn.datasets import load_iris\\nimport pandas as pd\\nimport seaborn as sns\\nimport matplotlib.pyplot as plt\\nimport numpy as np\\n\\niris_obj = load_iris()\\niris_df = pd.DataFrame(iris_obj.data, columns=iris_obj.feature_names)\\n\\niris_df[\\\"species\\\"] = [iris_obj.target_names[s] for s in iris_obj.target]\\niris_df.head()\";\n",
       "                var nbb_cells = Jupyter.notebook.get_cells();\n",
       "                for (var i = 0; i < nbb_cells.length; ++i) {\n",
       "                    if (nbb_cells[i].input_prompt_number == nbb_cell_id) {\n",
       "                        if (nbb_cells[i].get_text() == nbb_unformatted_code) {\n",
       "                             nbb_cells[i].set_text(nbb_formatted_code);\n",
       "                        }\n",
       "                        break;\n",
       "                    }\n",
       "                }\n",
       "            }, 500);\n",
       "            "
      ],
      "text/plain": [
       "<IPython.core.display.Javascript object>"
      ]
     },
     "metadata": {},
     "output_type": "display_data"
    }
   ],
   "source": [
    "%load_ext nb_black\n",
    "from sklearn.datasets import load_iris\n",
    "import pandas as pd\n",
    "import seaborn as sns\n",
    "import matplotlib.pyplot as plt\n",
    "import numpy as np\n",
    "\n",
    "iris_obj = load_iris()\n",
    "iris_df = pd.DataFrame(iris_obj.data, columns=iris_obj.feature_names)\n",
    "\n",
    "iris_df[\"species\"] = [iris_obj.target_names[s] for s in iris_obj.target]\n",
    "iris_df.head()"
   ]
  },
  {
   "cell_type": "markdown",
   "id": "1a6adb4e-7675-439d-b0bf-8231cb77f23c",
   "metadata": {},
   "source": [
    "A bit of code to get the data in the right, format the Kruskal-Wallis test. It requires for each group a list of values. Here a list of list is generated which is then unpacked to arguments for the ```stats.kruskal``` function."
   ]
  },
  {
   "cell_type": "code",
   "execution_count": 2,
   "id": "6c918f63-e0a1-469b-8c00-896096639619",
   "metadata": {},
   "outputs": [
    {
     "data": {
      "application/javascript": [
       "\n",
       "            setTimeout(function() {\n",
       "                var nbb_cell_id = 2;\n",
       "                var nbb_unformatted_code = \"species = np.unique(iris_df.species)\\n\\ndata = []\\n\\nfor s in species:\\n    data.append(iris_df[iris_df.species == s][\\\"sepal length (cm)\\\"])\";\n",
       "                var nbb_formatted_code = \"species = np.unique(iris_df.species)\\n\\ndata = []\\n\\nfor s in species:\\n    data.append(iris_df[iris_df.species == s][\\\"sepal length (cm)\\\"])\";\n",
       "                var nbb_cells = Jupyter.notebook.get_cells();\n",
       "                for (var i = 0; i < nbb_cells.length; ++i) {\n",
       "                    if (nbb_cells[i].input_prompt_number == nbb_cell_id) {\n",
       "                        if (nbb_cells[i].get_text() == nbb_unformatted_code) {\n",
       "                             nbb_cells[i].set_text(nbb_formatted_code);\n",
       "                        }\n",
       "                        break;\n",
       "                    }\n",
       "                }\n",
       "            }, 500);\n",
       "            "
      ],
      "text/plain": [
       "<IPython.core.display.Javascript object>"
      ]
     },
     "metadata": {},
     "output_type": "display_data"
    }
   ],
   "source": [
    "species = np.unique(iris_df.species)\n",
    "\n",
    "data = []\n",
    "\n",
    "for s in species:\n",
    "    data.append(iris_df[iris_df.species == s][\"sepal length (cm)\"])"
   ]
  },
  {
   "cell_type": "code",
   "execution_count": 3,
   "id": "7e659bae-861a-4a7b-a4ad-d1c5543b06ef",
   "metadata": {},
   "outputs": [
    {
     "data": {
      "text/plain": [
       "KruskalResult(statistic=96.93743600064833, pvalue=8.91873433246198e-22)"
      ]
     },
     "execution_count": 3,
     "metadata": {},
     "output_type": "execute_result"
    },
    {
     "data": {
      "application/javascript": [
       "\n",
       "            setTimeout(function() {\n",
       "                var nbb_cell_id = 3;\n",
       "                var nbb_unformatted_code = \"from scipy import stats\\n\\nstats.kruskal(*data)\";\n",
       "                var nbb_formatted_code = \"from scipy import stats\\n\\nstats.kruskal(*data)\";\n",
       "                var nbb_cells = Jupyter.notebook.get_cells();\n",
       "                for (var i = 0; i < nbb_cells.length; ++i) {\n",
       "                    if (nbb_cells[i].input_prompt_number == nbb_cell_id) {\n",
       "                        if (nbb_cells[i].get_text() == nbb_unformatted_code) {\n",
       "                             nbb_cells[i].set_text(nbb_formatted_code);\n",
       "                        }\n",
       "                        break;\n",
       "                    }\n",
       "                }\n",
       "            }, 500);\n",
       "            "
      ],
      "text/plain": [
       "<IPython.core.display.Javascript object>"
      ]
     },
     "metadata": {},
     "output_type": "display_data"
    }
   ],
   "source": [
    "from scipy import stats\n",
    "\n",
    "stats.kruskal(*data)"
   ]
  },
  {
   "cell_type": "markdown",
   "id": "3ae55b4e-1a55-41a8-bd3b-1c83472b7659",
   "metadata": {},
   "source": [
    "The test is significant, so there is a difference. To find out what difference there is (between which exact species) and additional test, a Posthoc Dunn test is required. The scikit_posthocs package makes this very simple."
   ]
  },
  {
   "cell_type": "code",
   "execution_count": 4,
   "id": "8b3d5898-8692-4f03-8633-fe72091b28d3",
   "metadata": {},
   "outputs": [
    {
     "data": {
      "text/html": [
       "<div>\n",
       "<style scoped>\n",
       "    .dataframe tbody tr th:only-of-type {\n",
       "        vertical-align: middle;\n",
       "    }\n",
       "\n",
       "    .dataframe tbody tr th {\n",
       "        vertical-align: top;\n",
       "    }\n",
       "\n",
       "    .dataframe thead th {\n",
       "        text-align: right;\n",
       "    }\n",
       "</style>\n",
       "<table border=\"1\" class=\"dataframe\">\n",
       "  <thead>\n",
       "    <tr style=\"text-align: right;\">\n",
       "      <th></th>\n",
       "      <th>setosa</th>\n",
       "      <th>versicolor</th>\n",
       "      <th>virginica</th>\n",
       "    </tr>\n",
       "  </thead>\n",
       "  <tbody>\n",
       "    <tr>\n",
       "      <th>setosa</th>\n",
       "      <td>1.000000e+00</td>\n",
       "      <td>1.529257e-09</td>\n",
       "      <td>6.000296e-22</td>\n",
       "    </tr>\n",
       "    <tr>\n",
       "      <th>versicolor</th>\n",
       "      <td>1.529257e-09</td>\n",
       "      <td>1.000000e+00</td>\n",
       "      <td>2.774866e-04</td>\n",
       "    </tr>\n",
       "    <tr>\n",
       "      <th>virginica</th>\n",
       "      <td>6.000296e-22</td>\n",
       "      <td>2.774866e-04</td>\n",
       "      <td>1.000000e+00</td>\n",
       "    </tr>\n",
       "  </tbody>\n",
       "</table>\n",
       "</div>"
      ],
      "text/plain": [
       "                  setosa    versicolor     virginica\n",
       "setosa      1.000000e+00  1.529257e-09  6.000296e-22\n",
       "versicolor  1.529257e-09  1.000000e+00  2.774866e-04\n",
       "virginica   6.000296e-22  2.774866e-04  1.000000e+00"
      ]
     },
     "execution_count": 4,
     "metadata": {},
     "output_type": "execute_result"
    },
    {
     "data": {
      "application/javascript": [
       "\n",
       "            setTimeout(function() {\n",
       "                var nbb_cell_id = 4;\n",
       "                var nbb_unformatted_code = \"from scikit_posthocs import posthoc_dunn\\n\\n# posthoc dunn test, with correction for multiple testing\\ndunn_df = posthoc_dunn(\\n    iris_df, val_col=\\\"sepal length (cm)\\\", group_col=\\\"species\\\", p_adjust=\\\"fdr_bh\\\"\\n)\\ndunn_df\";\n",
       "                var nbb_formatted_code = \"from scikit_posthocs import posthoc_dunn\\n\\n# posthoc dunn test, with correction for multiple testing\\ndunn_df = posthoc_dunn(\\n    iris_df, val_col=\\\"sepal length (cm)\\\", group_col=\\\"species\\\", p_adjust=\\\"fdr_bh\\\"\\n)\\ndunn_df\";\n",
       "                var nbb_cells = Jupyter.notebook.get_cells();\n",
       "                for (var i = 0; i < nbb_cells.length; ++i) {\n",
       "                    if (nbb_cells[i].input_prompt_number == nbb_cell_id) {\n",
       "                        if (nbb_cells[i].get_text() == nbb_unformatted_code) {\n",
       "                             nbb_cells[i].set_text(nbb_formatted_code);\n",
       "                        }\n",
       "                        break;\n",
       "                    }\n",
       "                }\n",
       "            }, 500);\n",
       "            "
      ],
      "text/plain": [
       "<IPython.core.display.Javascript object>"
      ]
     },
     "metadata": {},
     "output_type": "display_data"
    }
   ],
   "source": [
    "from scikit_posthocs import posthoc_dunn\n",
    "\n",
    "# posthoc dunn test, with correction for multiple testing\n",
    "dunn_df = posthoc_dunn(\n",
    "    iris_df, val_col=\"sepal length (cm)\", group_col=\"species\", p_adjust=\"fdr_bh\"\n",
    ")\n",
    "dunn_df"
   ]
  },
  {
   "cell_type": "markdown",
   "id": "14befc30-0e62-4144-8c71-2f90bfdd10a7",
   "metadata": {},
   "source": [
    "This shows all possible comparisons in a matrix. Though we'll need to extract each pair (once) and get the data in a format compatible with statannotations. This is shown below, the irrelevant part of the matrix is removed, then the matrix is converted to a long format and missing values removed."
   ]
  },
  {
   "cell_type": "code",
   "execution_count": 5,
   "id": "dcc159ac-f3ac-4bb3-a545-7e6310a34119",
   "metadata": {},
   "outputs": [
    {
     "data": {
      "text/html": [
       "<div>\n",
       "<style scoped>\n",
       "    .dataframe tbody tr th:only-of-type {\n",
       "        vertical-align: middle;\n",
       "    }\n",
       "\n",
       "    .dataframe tbody tr th {\n",
       "        vertical-align: top;\n",
       "    }\n",
       "\n",
       "    .dataframe thead th {\n",
       "        text-align: right;\n",
       "    }\n",
       "</style>\n",
       "<table border=\"1\" class=\"dataframe\">\n",
       "  <thead>\n",
       "    <tr style=\"text-align: right;\">\n",
       "      <th></th>\n",
       "      <th>index</th>\n",
       "      <th>variable</th>\n",
       "      <th>value</th>\n",
       "    </tr>\n",
       "  </thead>\n",
       "  <tbody>\n",
       "    <tr>\n",
       "      <th>3</th>\n",
       "      <td>setosa</td>\n",
       "      <td>versicolor</td>\n",
       "      <td>1.529257e-09</td>\n",
       "    </tr>\n",
       "    <tr>\n",
       "      <th>6</th>\n",
       "      <td>setosa</td>\n",
       "      <td>virginica</td>\n",
       "      <td>6.000296e-22</td>\n",
       "    </tr>\n",
       "    <tr>\n",
       "      <th>7</th>\n",
       "      <td>versicolor</td>\n",
       "      <td>virginica</td>\n",
       "      <td>2.774866e-04</td>\n",
       "    </tr>\n",
       "  </tbody>\n",
       "</table>\n",
       "</div>"
      ],
      "text/plain": [
       "        index    variable         value\n",
       "3      setosa  versicolor  1.529257e-09\n",
       "6      setosa   virginica  6.000296e-22\n",
       "7  versicolor   virginica  2.774866e-04"
      ]
     },
     "execution_count": 5,
     "metadata": {},
     "output_type": "execute_result"
    },
    {
     "data": {
      "application/javascript": [
       "\n",
       "            setTimeout(function() {\n",
       "                var nbb_cell_id = 5;\n",
       "                var nbb_unformatted_code = \"remove = np.tril(np.ones(dunn_df.shape), k=0).astype(\\\"bool\\\")\\ndunn_df[remove] = np.nan\\n\\nmolten_df = dunn_df.melt(ignore_index=False).reset_index().dropna()\\nmolten_df\";\n",
       "                var nbb_formatted_code = \"remove = np.tril(np.ones(dunn_df.shape), k=0).astype(\\\"bool\\\")\\ndunn_df[remove] = np.nan\\n\\nmolten_df = dunn_df.melt(ignore_index=False).reset_index().dropna()\\nmolten_df\";\n",
       "                var nbb_cells = Jupyter.notebook.get_cells();\n",
       "                for (var i = 0; i < nbb_cells.length; ++i) {\n",
       "                    if (nbb_cells[i].input_prompt_number == nbb_cell_id) {\n",
       "                        if (nbb_cells[i].get_text() == nbb_unformatted_code) {\n",
       "                             nbb_cells[i].set_text(nbb_formatted_code);\n",
       "                        }\n",
       "                        break;\n",
       "                    }\n",
       "                }\n",
       "            }, 500);\n",
       "            "
      ],
      "text/plain": [
       "<IPython.core.display.Javascript object>"
      ]
     },
     "metadata": {},
     "output_type": "display_data"
    }
   ],
   "source": [
    "remove = np.tril(np.ones(dunn_df.shape), k=0).astype(\"bool\")\n",
    "dunn_df[remove] = np.nan\n",
    "\n",
    "molten_df = dunn_df.melt(ignore_index=False).reset_index().dropna()\n",
    "molten_df"
   ]
  },
  {
   "cell_type": "code",
   "execution_count": 6,
   "id": "5bf7156d-678e-4171-ac12-3af7b721ca77",
   "metadata": {},
   "outputs": [
    {
     "name": "stdout",
     "output_type": "stream",
     "text": [
      "p-value annotation legend:\n",
      "      ns: p <= 1.00e+00\n",
      "       *: 1.00e-02 < p <= 5.00e-02\n",
      "      **: 1.00e-03 < p <= 1.00e-02\n",
      "     ***: 1.00e-04 < p <= 1.00e-03\n",
      "    ****: p <= 1.00e-04\n",
      "\n",
      "setosa vs. versicolor: Custom statistical test, P_val:1.529e-09\n",
      "versicolor vs. virginica: Custom statistical test, P_val:2.775e-04\n",
      "setosa vs. virginica: Custom statistical test, P_val:6.000e-22\n"
     ]
    },
    {
     "data": {
      "image/png": "[encoded data removed]",
      "text/plain": [
       "<Figure size 432x288 with 1 Axes>"
      ]
     },
     "metadata": {
      "needs_background": "light"
     },
     "output_type": "display_data"
    },
    {
     "data": {
      "application/javascript": [
       "\n",
       "            setTimeout(function() {\n",
       "                var nbb_cell_id = 6;\n",
       "                var nbb_unformatted_code = \"from statannotations.Annotator import Annotator\\n\\nax = sns.boxplot(data=iris_df, x=\\\"species\\\", y=\\\"sepal length (cm)\\\", order=species)\\n\\npairs = [(i[1][\\\"index\\\"], i[1][\\\"variable\\\"]) for i in molten_df.iterrows()]\\np_values = [i[1][\\\"value\\\"] for i in molten_df.iterrows()]\\n\\nannotator = Annotator(\\n    ax, pairs, data=iris_df, x=\\\"species\\\", y=\\\"sepal length (cm)\\\", order=species\\n)\\nannotator.configure(text_format=\\\"star\\\", loc=\\\"inside\\\")\\nannotator.set_pvalues_and_annotate(p_values)\\n\\nplt.tight_layout()\\nplt.savefig(\\\"./img/kruskal-wallis-posthoc.png\\\", dpi=200)\";\n",
       "                var nbb_formatted_code = \"from statannotations.Annotator import Annotator\\n\\nax = sns.boxplot(data=iris_df, x=\\\"species\\\", y=\\\"sepal length (cm)\\\", order=species)\\n\\npairs = [(i[1][\\\"index\\\"], i[1][\\\"variable\\\"]) for i in molten_df.iterrows()]\\np_values = [i[1][\\\"value\\\"] for i in molten_df.iterrows()]\\n\\nannotator = Annotator(\\n    ax, pairs, data=iris_df, x=\\\"species\\\", y=\\\"sepal length (cm)\\\", order=species\\n)\\nannotator.configure(text_format=\\\"star\\\", loc=\\\"inside\\\")\\nannotator.set_pvalues_and_annotate(p_values)\\n\\nplt.tight_layout()\\nplt.savefig(\\\"./img/kruskal-wallis-posthoc.png\\\", dpi=200)\";\n",
       "                var nbb_cells = Jupyter.notebook.get_cells();\n",
       "                for (var i = 0; i < nbb_cells.length; ++i) {\n",
       "                    if (nbb_cells[i].input_prompt_number == nbb_cell_id) {\n",
       "                        if (nbb_cells[i].get_text() == nbb_unformatted_code) {\n",
       "                             nbb_cells[i].set_text(nbb_formatted_code);\n",
       "                        }\n",
       "                        break;\n",
       "                    }\n",
       "                }\n",
       "            }, 500);\n",
       "            "
      ],
      "text/plain": [
       "<IPython.core.display.Javascript object>"
      ]
     },
     "metadata": {},
     "output_type": "display_data"
    }
   ],
   "source": [
    "from statannotations.Annotator import Annotator\n",
    "\n",
    "ax = sns.boxplot(data=iris_df, x=\"species\", y=\"sepal length (cm)\", order=species)\n",
    "\n",
    "pairs = [(i[1][\"index\"], i[1][\"variable\"]) for i in molten_df.iterrows()]\n",
    "p_values = [i[1][\"value\"] for i in molten_df.iterrows()]\n",
    "\n",
    "annotator = Annotator(\n",
    "    ax, pairs, data=iris_df, x=\"species\", y=\"sepal length (cm)\", order=species\n",
    ")\n",
    "annotator.configure(text_format=\"star\", loc=\"inside\")\n",
    "annotator.set_pvalues_and_annotate(p_values)\n",
    "\n",
    "plt.tight_layout()\n",
    "plt.savefig(\"./img/kruskal-wallis-posthoc.png\", dpi=200)"
   ]
  },
  {
   "cell_type": "markdown",
   "id": "617d2c1d-939a-48da-9062-d414b1654aef",
   "metadata": {},
   "source": [
    "## Comparison with Kruskal Wallis implementation in statannotations\n",
    "\n",
    "statannotations includes the Kruskal Wallis H test as well, but it is applied on all groups pairwise (note it is not a test for paired samples). Then it applies the selected correction on the p-values. Note that this is not usually how this statistic is applied."
   ]
  },
  {
   "cell_type": "code",
   "execution_count": 7,
   "id": "15324eeb-3b8b-4eb3-8193-931f3946b1a8",
   "metadata": {},
   "outputs": [
    {
     "name": "stdout",
     "output_type": "stream",
     "text": [
      "p-value annotation legend:\n",
      "      ns: p <= 1.00e+00\n",
      "       *: 1.00e-02 < p <= 5.00e-02\n",
      "      **: 1.00e-03 < p <= 1.00e-02\n",
      "     ***: 1.00e-04 < p <= 1.00e-03\n",
      "    ****: p <= 1.00e-04\n",
      "\n",
      "setosa vs. versicolor: Kruskal-Wallis paired samples with Benjamini-Hochberg correction, P_val:8.130e-14 Stat=5.577e+01\n",
      "versicolor vs. virginica: Kruskal-Wallis paired samples with Benjamini-Hochberg correction, P_val:5.765e-07 Stat=2.499e+01\n",
      "setosa vs. virginica: Kruskal-Wallis paired samples with Benjamini-Hochberg correction, P_val:6.212e-17 Stat=6.991e+01\n"
     ]
    },
    {
     "data": {
      "text/plain": [
       "(<AxesSubplot:xlabel='species', ylabel='sepal length (cm)'>,\n",
       " [<statannotations.Annotation.Annotation at 0x27108784be0>,\n",
       "  <statannotations.Annotation.Annotation at 0x271088ef940>,\n",
       "  <statannotations.Annotation.Annotation at 0x271088ef880>])"
      ]
     },
     "execution_count": 7,
     "metadata": {},
     "output_type": "execute_result"
    },
    {
     "data": {
      "image/png": "[encoded data removed]",
      "text/plain": [
       "<Figure size 432x288 with 1 Axes>"
      ]
     },
     "metadata": {
      "needs_background": "light"
     },
     "output_type": "display_data"
    },
    {
     "data": {
      "application/javascript": [
       "\n",
       "            setTimeout(function() {\n",
       "                var nbb_cell_id = 7;\n",
       "                var nbb_unformatted_code = \"ax = sns.boxplot(data=iris_df, x=\\\"species\\\", y=\\\"sepal length (cm)\\\", order=species)\\n\\npairs = [(i[1][\\\"index\\\"], i[1][\\\"variable\\\"]) for i in molten_df.iterrows()]\\n\\nannotator = Annotator(\\n    ax, pairs, data=iris_df, x=\\\"species\\\", y=\\\"sepal length (cm)\\\", order=species\\n)\\nannotator.configure(\\n    test=\\\"Kruskal\\\", text_format=\\\"star\\\", loc=\\\"inside\\\", comparisons_correction=\\\"fdr_bh\\\"\\n)\\nannotator.apply_and_annotate()\";\n",
       "                var nbb_formatted_code = \"ax = sns.boxplot(data=iris_df, x=\\\"species\\\", y=\\\"sepal length (cm)\\\", order=species)\\n\\npairs = [(i[1][\\\"index\\\"], i[1][\\\"variable\\\"]) for i in molten_df.iterrows()]\\n\\nannotator = Annotator(\\n    ax, pairs, data=iris_df, x=\\\"species\\\", y=\\\"sepal length (cm)\\\", order=species\\n)\\nannotator.configure(\\n    test=\\\"Kruskal\\\", text_format=\\\"star\\\", loc=\\\"inside\\\", comparisons_correction=\\\"fdr_bh\\\"\\n)\\nannotator.apply_and_annotate()\";\n",
       "                var nbb_cells = Jupyter.notebook.get_cells();\n",
       "                for (var i = 0; i < nbb_cells.length; ++i) {\n",
       "                    if (nbb_cells[i].input_prompt_number == nbb_cell_id) {\n",
       "                        if (nbb_cells[i].get_text() == nbb_unformatted_code) {\n",
       "                             nbb_cells[i].set_text(nbb_formatted_code);\n",
       "                        }\n",
       "                        break;\n",
       "                    }\n",
       "                }\n",
       "            }, 500);\n",
       "            "
      ],
      "text/plain": [
       "<IPython.core.display.Javascript object>"
      ]
     },
     "metadata": {},
     "output_type": "display_data"
    }
   ],
   "source": [
    "ax = sns.boxplot(data=iris_df, x=\"species\", y=\"sepal length (cm)\", order=species)\n",
    "\n",
    "pairs = [(i[1][\"index\"], i[1][\"variable\"]) for i in molten_df.iterrows()]\n",
    "\n",
    "annotator = Annotator(\n",
    "    ax, pairs, data=iris_df, x=\"species\", y=\"sepal length (cm)\", order=species\n",
    ")\n",
    "annotator.configure(\n",
    "    test=\"Kruskal\", text_format=\"star\", loc=\"inside\", comparisons_correction=\"fdr_bh\"\n",
    ")\n",
    "annotator.apply_and_annotate()"
   ]
  },
  {
   "cell_type": "markdown",
   "id": "58c5da4d-788d-4326-ac3f-38f70b71f87c",
   "metadata": {},
   "source": [
    "# Conclusion\n",
    "\n",
    "While statannotations does support the Kruskal-Wallis test, it is implemented a little differently than you typically see in papers. The test is typically done on all groups and tells you if there is **any** difference, the post hoc Dunn test is then used to pick out **which** differences there are. Fortunately statannotations is flexible enough that any test you perform can easily be plotted. As the package scikit_posthocs includes a whole range of tests, including the Tukey HSD test often used following an ANOVA, a few extra lines of code open up a lot of additional problems you can solve an plot using Python."
   ]
  },
  {
   "cell_type": "markdown",
   "id": "8c900ab8",
   "metadata": {},
   "source": [
    "## ANOVA with Tukey-HSD"
   ]
  },
  {
   "cell_type": "code",
   "execution_count": 8,
   "id": "d05b7da0",
   "metadata": {},
   "outputs": [
    {
     "name": "stdout",
     "output_type": "stream",
     "text": [
      "F_onewayResult(statistic=119.26450218450468, pvalue=1.6696691907693826e-31)\n"
     ]
    },
    {
     "data": {
      "text/html": [
       "<div>\n",
       "<style scoped>\n",
       "    .dataframe tbody tr th:only-of-type {\n",
       "        vertical-align: middle;\n",
       "    }\n",
       "\n",
       "    .dataframe tbody tr th {\n",
       "        vertical-align: top;\n",
       "    }\n",
       "\n",
       "    .dataframe thead th {\n",
       "        text-align: right;\n",
       "    }\n",
       "</style>\n",
       "<table border=\"1\" class=\"dataframe\">\n",
       "  <thead>\n",
       "    <tr style=\"text-align: right;\">\n",
       "      <th></th>\n",
       "      <th>setosa</th>\n",
       "      <th>versicolor</th>\n",
       "      <th>virginica</th>\n",
       "    </tr>\n",
       "  </thead>\n",
       "  <tbody>\n",
       "    <tr>\n",
       "      <th>setosa</th>\n",
       "      <td>1.000</td>\n",
       "      <td>0.001</td>\n",
       "      <td>0.001</td>\n",
       "    </tr>\n",
       "    <tr>\n",
       "      <th>versicolor</th>\n",
       "      <td>0.001</td>\n",
       "      <td>1.000</td>\n",
       "      <td>0.001</td>\n",
       "    </tr>\n",
       "    <tr>\n",
       "      <th>virginica</th>\n",
       "      <td>0.001</td>\n",
       "      <td>0.001</td>\n",
       "      <td>1.000</td>\n",
       "    </tr>\n",
       "  </tbody>\n",
       "</table>\n",
       "</div>"
      ],
      "text/plain": [
       "            setosa  versicolor  virginica\n",
       "setosa       1.000       0.001      0.001\n",
       "versicolor   0.001       1.000      0.001\n",
       "virginica    0.001       0.001      1.000"
      ]
     },
     "execution_count": 8,
     "metadata": {},
     "output_type": "execute_result"
    },
    {
     "data": {
      "application/javascript": [
       "\n",
       "            setTimeout(function() {\n",
       "                var nbb_cell_id = 8;\n",
       "                var nbb_unformatted_code = \"from scikit_posthocs import posthoc_tukey\\n\\n# First we do a oneway ANOVA as implemented in SciPy\\nprint(stats.f_oneway(*data))\\n\\ntukey_df = posthoc_tukey(iris_df, val_col=\\\"sepal length (cm)\\\", group_col=\\\"species\\\")\\ntukey_df\";\n",
       "                var nbb_formatted_code = \"from scikit_posthocs import posthoc_tukey\\n\\n# First we do a oneway ANOVA as implemented in SciPy\\nprint(stats.f_oneway(*data))\\n\\ntukey_df = posthoc_tukey(iris_df, val_col=\\\"sepal length (cm)\\\", group_col=\\\"species\\\")\\ntukey_df\";\n",
       "                var nbb_cells = Jupyter.notebook.get_cells();\n",
       "                for (var i = 0; i < nbb_cells.length; ++i) {\n",
       "                    if (nbb_cells[i].input_prompt_number == nbb_cell_id) {\n",
       "                        if (nbb_cells[i].get_text() == nbb_unformatted_code) {\n",
       "                             nbb_cells[i].set_text(nbb_formatted_code);\n",
       "                        }\n",
       "                        break;\n",
       "                    }\n",
       "                }\n",
       "            }, 500);\n",
       "            "
      ],
      "text/plain": [
       "<IPython.core.display.Javascript object>"
      ]
     },
     "metadata": {},
     "output_type": "display_data"
    }
   ],
   "source": [
    "from scikit_posthocs import posthoc_tukey\n",
    "\n",
    "# First we do a oneway ANOVA as implemented in SciPy\n",
    "print(stats.f_oneway(*data))\n",
    "\n",
    "tukey_df = posthoc_tukey(iris_df, val_col=\"sepal length (cm)\", group_col=\"species\")\n",
    "tukey_df"
   ]
  },
  {
   "cell_type": "markdown",
   "id": "8790fe44",
   "metadata": {},
   "source": [
    "The next steps are the same as with Kruskal Wallis, we turn that matrix into a non-redundant list of pairs and add them in statsannot."
   ]
  },
  {
   "cell_type": "code",
   "execution_count": 9,
   "id": "153e609d",
   "metadata": {},
   "outputs": [
    {
     "data": {
      "text/html": [
       "<div>\n",
       "<style scoped>\n",
       "    .dataframe tbody tr th:only-of-type {\n",
       "        vertical-align: middle;\n",
       "    }\n",
       "\n",
       "    .dataframe tbody tr th {\n",
       "        vertical-align: top;\n",
       "    }\n",
       "\n",
       "    .dataframe thead th {\n",
       "        text-align: right;\n",
       "    }\n",
       "</style>\n",
       "<table border=\"1\" class=\"dataframe\">\n",
       "  <thead>\n",
       "    <tr style=\"text-align: right;\">\n",
       "      <th></th>\n",
       "      <th>index</th>\n",
       "      <th>variable</th>\n",
       "      <th>value</th>\n",
       "    </tr>\n",
       "  </thead>\n",
       "  <tbody>\n",
       "    <tr>\n",
       "      <th>3</th>\n",
       "      <td>setosa</td>\n",
       "      <td>versicolor</td>\n",
       "      <td>1.529257e-09</td>\n",
       "    </tr>\n",
       "    <tr>\n",
       "      <th>6</th>\n",
       "      <td>setosa</td>\n",
       "      <td>virginica</td>\n",
       "      <td>6.000296e-22</td>\n",
       "    </tr>\n",
       "    <tr>\n",
       "      <th>7</th>\n",
       "      <td>versicolor</td>\n",
       "      <td>virginica</td>\n",
       "      <td>2.774866e-04</td>\n",
       "    </tr>\n",
       "  </tbody>\n",
       "</table>\n",
       "</div>"
      ],
      "text/plain": [
       "        index    variable         value\n",
       "3      setosa  versicolor  1.529257e-09\n",
       "6      setosa   virginica  6.000296e-22\n",
       "7  versicolor   virginica  2.774866e-04"
      ]
     },
     "execution_count": 9,
     "metadata": {},
     "output_type": "execute_result"
    },
    {
     "data": {
      "application/javascript": [
       "\n",
       "            setTimeout(function() {\n",
       "                var nbb_cell_id = 9;\n",
       "                var nbb_unformatted_code = \"remove = np.tril(np.ones(tukey_df.shape), k=0).astype(\\\"bool\\\")\\ntukey_df[remove] = np.nan\\n\\nmolten_df = dunn_df.melt(ignore_index=False).reset_index().dropna()\\nmolten_df\";\n",
       "                var nbb_formatted_code = \"remove = np.tril(np.ones(tukey_df.shape), k=0).astype(\\\"bool\\\")\\ntukey_df[remove] = np.nan\\n\\nmolten_df = dunn_df.melt(ignore_index=False).reset_index().dropna()\\nmolten_df\";\n",
       "                var nbb_cells = Jupyter.notebook.get_cells();\n",
       "                for (var i = 0; i < nbb_cells.length; ++i) {\n",
       "                    if (nbb_cells[i].input_prompt_number == nbb_cell_id) {\n",
       "                        if (nbb_cells[i].get_text() == nbb_unformatted_code) {\n",
       "                             nbb_cells[i].set_text(nbb_formatted_code);\n",
       "                        }\n",
       "                        break;\n",
       "                    }\n",
       "                }\n",
       "            }, 500);\n",
       "            "
      ],
      "text/plain": [
       "<IPython.core.display.Javascript object>"
      ]
     },
     "metadata": {},
     "output_type": "display_data"
    }
   ],
   "source": [
    "remove = np.tril(np.ones(tukey_df.shape), k=0).astype(\"bool\")\n",
    "tukey_df[remove] = np.nan\n",
    "\n",
    "molten_df = dunn_df.melt(ignore_index=False).reset_index().dropna()\n",
    "molten_df"
   ]
  },
  {
   "cell_type": "code",
   "execution_count": 10,
   "id": "c9698255",
   "metadata": {},
   "outputs": [
    {
     "name": "stdout",
     "output_type": "stream",
     "text": [
      "p-value annotation legend:\n",
      "      ns: p <= 1.00e+00\n",
      "       *: 1.00e-02 < p <= 5.00e-02\n",
      "      **: 1.00e-03 < p <= 1.00e-02\n",
      "     ***: 1.00e-04 < p <= 1.00e-03\n",
      "    ****: p <= 1.00e-04\n",
      "\n",
      "setosa vs. versicolor: Custom statistical test, P_val:1.529e-09\n",
      "versicolor vs. virginica: Custom statistical test, P_val:2.775e-04\n",
      "setosa vs. virginica: Custom statistical test, P_val:6.000e-22\n"
     ]
    },
    {
     "data": {
      "image/png": "[encoded data removed]",
      "text/plain": [
       "<Figure size 432x288 with 1 Axes>"
      ]
     },
     "metadata": {
      "needs_background": "light"
     },
     "output_type": "display_data"
    },
    {
     "data": {
      "application/javascript": [
       "\n",
       "            setTimeout(function() {\n",
       "                var nbb_cell_id = 10;\n",
       "                var nbb_unformatted_code = \"ax = sns.boxplot(data=iris_df, x=\\\"species\\\", y=\\\"sepal length (cm)\\\", order=species)\\n\\npairs = [(i[1][\\\"index\\\"], i[1][\\\"variable\\\"]) for i in molten_df.iterrows()]\\np_values = [i[1][\\\"value\\\"] for i in molten_df.iterrows()]\\n\\nannotator = Annotator(\\n    ax, pairs, data=iris_df, x=\\\"species\\\", y=\\\"sepal length (cm)\\\", order=species\\n)\\nannotator.configure(text_format=\\\"star\\\", loc=\\\"inside\\\")\\nannotator.set_pvalues_and_annotate(p_values)\\n\\nplt.tight_layout()\\nplt.savefig(\\\"./img/ANOVA-posthoc.png\\\", dpi=200)\";\n",
       "                var nbb_formatted_code = \"ax = sns.boxplot(data=iris_df, x=\\\"species\\\", y=\\\"sepal length (cm)\\\", order=species)\\n\\npairs = [(i[1][\\\"index\\\"], i[1][\\\"variable\\\"]) for i in molten_df.iterrows()]\\np_values = [i[1][\\\"value\\\"] for i in molten_df.iterrows()]\\n\\nannotator = Annotator(\\n    ax, pairs, data=iris_df, x=\\\"species\\\", y=\\\"sepal length (cm)\\\", order=species\\n)\\nannotator.configure(text_format=\\\"star\\\", loc=\\\"inside\\\")\\nannotator.set_pvalues_and_annotate(p_values)\\n\\nplt.tight_layout()\\nplt.savefig(\\\"./img/ANOVA-posthoc.png\\\", dpi=200)\";\n",
       "                var nbb_cells = Jupyter.notebook.get_cells();\n",
       "                for (var i = 0; i < nbb_cells.length; ++i) {\n",
       "                    if (nbb_cells[i].input_prompt_number == nbb_cell_id) {\n",
       "                        if (nbb_cells[i].get_text() == nbb_unformatted_code) {\n",
       "                             nbb_cells[i].set_text(nbb_formatted_code);\n",
       "                        }\n",
       "                        break;\n",
       "                    }\n",
       "                }\n",
       "            }, 500);\n",
       "            "
      ],
      "text/plain": [
       "<IPython.core.display.Javascript object>"
      ]
     },
     "metadata": {},
     "output_type": "display_data"
    }
   ],
   "source": [
    "ax = sns.boxplot(data=iris_df, x=\"species\", y=\"sepal length (cm)\", order=species)\n",
    "\n",
    "pairs = [(i[1][\"index\"], i[1][\"variable\"]) for i in molten_df.iterrows()]\n",
    "p_values = [i[1][\"value\"] for i in molten_df.iterrows()]\n",
    "\n",
    "annotator = Annotator(\n",
    "    ax, pairs, data=iris_df, x=\"species\", y=\"sepal length (cm)\", order=species\n",
    ")\n",
    "annotator.configure(text_format=\"star\", loc=\"inside\")\n",
    "annotator.set_pvalues_and_annotate(p_values)\n",
    "\n",
    "plt.tight_layout()\n",
    "plt.savefig(\"./img/ANOVA-posthoc.png\", dpi=200)"
   ]
  }
 ],
 "metadata": {
  "kernelspec": {
   "display_name": "Python 3 (ipykernel)",
   "language": "python",
   "name": "python3"
  },
  "language_info": {
   "codemirror_mode": {
    "name": "ipython",
    "version": 3
   },
   "file_extension": ".py",
   "mimetype": "text/x-python",
   "name": "python",
   "nbconvert_exporter": "python",
   "pygments_lexer": "ipython3",
   "version": "3.8.2"
  }
 },
 "nbformat": 4,
 "nbformat_minor": 5
}
