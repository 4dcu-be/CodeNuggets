{
 "cells": [
  {
   "cell_type": "markdown",
   "metadata": {},
   "source": [
    "# Correlations Heatmaps with significance indicated\n",
    "\n",
    "Correlations are usefull when exploring data and they are easy to generate using pandas and seaborn, however if you wish to include which correlations are significant it gets more complicated. Here is some code to solve this."
   ]
  },
  {
   "cell_type": "code",
   "execution_count": 1,
   "metadata": {},
   "outputs": [
    {
     "name": "stderr",
     "output_type": "stream",
     "text": [
      "C:\\ProgramData\\Anaconda3\\lib\\site-packages\\statsmodels\\stats\\multitest.py:162: RuntimeWarning: invalid value encountered in greater\n",
      "  notreject = pvals > alphacSidak_all\n",
      "C:\\ProgramData\\Anaconda3\\lib\\site-packages\\statsmodels\\stats\\multitest.py:256: RuntimeWarning: invalid value encountered in greater\n",
      "  pvals_corrected[pvals_corrected>1] = 1\n"
     ]
    },
    {
     "data": {
      "image/png": "[encoded data removed]",
      "text/plain": [
       "<Figure size 720x720 with 4 Axes>"
      ]
     },
     "metadata": {
      "needs_background": "light"
     },
     "output_type": "display_data"
    },
    {
     "data": {
      "application/javascript": [
       "\n",
       "            setTimeout(function() {\n",
       "                var nbb_cell_id = 1;\n",
       "                var nbb_unformatted_code = \"%load_ext nb_black\\nfrom sklearn.datasets import load_iris\\nfrom scipy.stats import spearmanr\\nimport pandas as pd\\nimport numpy as np\\nimport seaborn as sns\\nimport matplotlib.pyplot as plt\\n\\n\\niris_obj = load_iris()\\niris_df = pd.DataFrame(iris_obj.data, columns=iris_obj.feature_names)\\n\\n\\ndef get_correlations(df):\\n    df = df.dropna()._get_numeric_data()\\n    dfcols = pd.DataFrame(columns=df.columns)\\n    pvalues = dfcols.transpose().join(dfcols, how=\\\"outer\\\")\\n    correlations = dfcols.transpose().join(dfcols, how=\\\"outer\\\")\\n    for ix, r in enumerate(df.columns):\\n        for jx, c in enumerate(df.columns):\\n            sp = spearmanr(df[r], df[c])\\n            correlations[c][r] = sp[0]\\n            pvalues[c][r] = sp[1] if ix > jx else np.nan\\n    return correlations.astype(\\\"float\\\"), pvalues.astype(\\\"float\\\")\\n\\n\\ncorrelations, uncorrected_p_values = get_correlations(iris_df)\\n\\n\\nfrom statsmodels.stats.multitest import multipletests\\n\\nshape = uncorrected_p_values.values.shape\\nsignificant_matrix = multipletests(uncorrected_p_values.values.flatten())[0].reshape(\\n    shape\\n)\\n\\n\\ng = sns.clustermap(correlations, cmap=\\\"vlag\\\", vmin=-1, vmax=1)\\n\\nfor tick in g.ax_heatmap.get_yticklabels():\\n    tick.set_rotation(0)\\n\\nfor i, ix in enumerate(g.dendrogram_row.reordered_ind):\\n    for j, jx in enumerate(g.dendrogram_row.reordered_ind):\\n        if i != j:\\n            text = g.ax_heatmap.text(\\n                j + 0.5,\\n                i + 0.5,\\n                \\\"*\\\" if significant_matrix[ix, jx] or significant_matrix[jx, ix] else \\\"\\\",\\n                ha=\\\"center\\\",\\n                va=\\\"center\\\",\\n                color=\\\"black\\\",\\n            )\\n            text.set_fontsize(20)\\n\\nplt.tight_layout()\\nplt.savefig(\\\"./img/clustermap.png\\\", dpi=100)\";\n",
       "                var nbb_formatted_code = \"%load_ext nb_black\\nfrom sklearn.datasets import load_iris\\nfrom scipy.stats import spearmanr\\nimport pandas as pd\\nimport numpy as np\\nimport seaborn as sns\\nimport matplotlib.pyplot as plt\\n\\n\\niris_obj = load_iris()\\niris_df = pd.DataFrame(iris_obj.data, columns=iris_obj.feature_names)\\n\\n\\ndef get_correlations(df):\\n    df = df.dropna()._get_numeric_data()\\n    dfcols = pd.DataFrame(columns=df.columns)\\n    pvalues = dfcols.transpose().join(dfcols, how=\\\"outer\\\")\\n    correlations = dfcols.transpose().join(dfcols, how=\\\"outer\\\")\\n    for ix, r in enumerate(df.columns):\\n        for jx, c in enumerate(df.columns):\\n            sp = spearmanr(df[r], df[c])\\n            correlations[c][r] = sp[0]\\n            pvalues[c][r] = sp[1] if ix > jx else np.nan\\n    return correlations.astype(\\\"float\\\"), pvalues.astype(\\\"float\\\")\\n\\n\\ncorrelations, uncorrected_p_values = get_correlations(iris_df)\\n\\n\\nfrom statsmodels.stats.multitest import multipletests\\n\\nshape = uncorrected_p_values.values.shape\\nsignificant_matrix = multipletests(uncorrected_p_values.values.flatten())[0].reshape(\\n    shape\\n)\\n\\n\\ng = sns.clustermap(correlations, cmap=\\\"vlag\\\", vmin=-1, vmax=1)\\n\\nfor tick in g.ax_heatmap.get_yticklabels():\\n    tick.set_rotation(0)\\n\\nfor i, ix in enumerate(g.dendrogram_row.reordered_ind):\\n    for j, jx in enumerate(g.dendrogram_row.reordered_ind):\\n        if i != j:\\n            text = g.ax_heatmap.text(\\n                j + 0.5,\\n                i + 0.5,\\n                \\\"*\\\" if significant_matrix[ix, jx] or significant_matrix[jx, ix] else \\\"\\\",\\n                ha=\\\"center\\\",\\n                va=\\\"center\\\",\\n                color=\\\"black\\\",\\n            )\\n            text.set_fontsize(20)\\n\\nplt.tight_layout()\\nplt.savefig(\\\"./img/clustermap.png\\\", dpi=100)\";\n",
       "                var nbb_cells = Jupyter.notebook.get_cells();\n",
       "                for (var i = 0; i < nbb_cells.length; ++i) {\n",
       "                    if (nbb_cells[i].input_prompt_number == nbb_cell_id) {\n",
       "                        if (nbb_cells[i].get_text() == nbb_unformatted_code) {\n",
       "                             nbb_cells[i].set_text(nbb_formatted_code);\n",
       "                        }\n",
       "                        break;\n",
       "                    }\n",
       "                }\n",
       "            }, 500);\n",
       "            "
      ],
      "text/plain": [
       "<IPython.core.display.Javascript object>"
      ]
     },
     "metadata": {},
     "output_type": "display_data"
    }
   ],
   "source": [
    "%load_ext nb_black\n",
    "from sklearn.datasets import load_iris\n",
    "from scipy.stats import spearmanr\n",
    "import pandas as pd\n",
    "import numpy as np\n",
    "import seaborn as sns\n",
    "import matplotlib.pyplot as plt\n",
    "\n",
    "\n",
    "iris_obj = load_iris()\n",
    "iris_df = pd.DataFrame(iris_obj.data, columns=iris_obj.feature_names)\n",
    "\n",
    "\n",
    "def get_correlations(df):\n",
    "    df = df.dropna()._get_numeric_data()\n",
    "    dfcols = pd.DataFrame(columns=df.columns)\n",
    "    pvalues = dfcols.transpose().join(dfcols, how=\"outer\")\n",
    "    correlations = dfcols.transpose().join(dfcols, how=\"outer\")\n",
    "    for ix, r in enumerate(df.columns):\n",
    "        for jx, c in enumerate(df.columns):\n",
    "            sp = spearmanr(df[r], df[c])\n",
    "            correlations[c][r] = sp[0]\n",
    "            pvalues[c][r] = sp[1] if ix > jx else np.nan\n",
    "    return correlations.astype(\"float\"), pvalues.astype(\"float\")\n",
    "\n",
    "\n",
    "correlations, uncorrected_p_values = get_correlations(iris_df)\n",
    "\n",
    "\n",
    "from statsmodels.stats.multitest import multipletests\n",
    "\n",
    "shape = uncorrected_p_values.values.shape\n",
    "significant_matrix = multipletests(uncorrected_p_values.values.flatten())[0].reshape(\n",
    "    shape\n",
    ")\n",
    "\n",
    "\n",
    "g = sns.clustermap(correlations, cmap=\"vlag\", vmin=-1, vmax=1)\n",
    "\n",
    "for tick in g.ax_heatmap.get_yticklabels():\n",
    "    tick.set_rotation(0)\n",
    "\n",
    "for i, ix in enumerate(g.dendrogram_row.reordered_ind):\n",
    "    for j, jx in enumerate(g.dendrogram_row.reordered_ind):\n",
    "        if i != j:\n",
    "            text = g.ax_heatmap.text(\n",
    "                j + 0.5,\n",
    "                i + 0.5,\n",
    "                \"*\" if significant_matrix[ix, jx] or significant_matrix[jx, ix] else \"\",\n",
    "                ha=\"center\",\n",
    "                va=\"center\",\n",
    "                color=\"black\",\n",
    "            )\n",
    "            text.set_fontsize(20)\n",
    "\n",
    "plt.tight_layout()\n",
    "plt.savefig(\"./img/clustermap.png\", dpi=100)"
   ]
  },
  {
   "cell_type": "markdown",
   "metadata": {},
   "source": [
    "## Additiona checks\n",
    "\n",
    "A few checks to see if everything was calculated and transformed correctly "
   ]
  },
  {
   "cell_type": "code",
   "execution_count": 2,
   "metadata": {},
   "outputs": [
    {
     "data": {
      "text/html": [
       "<div>\n",
       "<style scoped>\n",
       "    .dataframe tbody tr th:only-of-type {\n",
       "        vertical-align: middle;\n",
       "    }\n",
       "\n",
       "    .dataframe tbody tr th {\n",
       "        vertical-align: top;\n",
       "    }\n",
       "\n",
       "    .dataframe thead th {\n",
       "        text-align: right;\n",
       "    }\n",
       "</style>\n",
       "<table border=\"1\" class=\"dataframe\">\n",
       "  <thead>\n",
       "    <tr style=\"text-align: right;\">\n",
       "      <th></th>\n",
       "      <th>sepal length (cm)</th>\n",
       "      <th>sepal width (cm)</th>\n",
       "      <th>petal length (cm)</th>\n",
       "      <th>petal width (cm)</th>\n",
       "    </tr>\n",
       "  </thead>\n",
       "  <tbody>\n",
       "    <tr>\n",
       "      <th>sepal length (cm)</th>\n",
       "      <td>NaN</td>\n",
       "      <td>NaN</td>\n",
       "      <td>NaN</td>\n",
       "      <td>NaN</td>\n",
       "    </tr>\n",
       "    <tr>\n",
       "      <th>sepal width (cm)</th>\n",
       "      <td>4.136799e-02</td>\n",
       "      <td>NaN</td>\n",
       "      <td>NaN</td>\n",
       "      <td>NaN</td>\n",
       "    </tr>\n",
       "    <tr>\n",
       "      <th>petal length (cm)</th>\n",
       "      <td>3.443087e-50</td>\n",
       "      <td>0.000115</td>\n",
       "      <td>NaN</td>\n",
       "      <td>NaN</td>\n",
       "    </tr>\n",
       "    <tr>\n",
       "      <th>petal width (cm)</th>\n",
       "      <td>4.189447e-40</td>\n",
       "      <td>0.000334</td>\n",
       "      <td>8.156597e-70</td>\n",
       "      <td>NaN</td>\n",
       "    </tr>\n",
       "  </tbody>\n",
       "</table>\n",
       "</div>"
      ],
      "text/plain": [
       "                   sepal length (cm)  sepal width (cm)  petal length (cm)  \\\n",
       "sepal length (cm)                NaN               NaN                NaN   \n",
       "sepal width (cm)        4.136799e-02               NaN                NaN   \n",
       "petal length (cm)       3.443087e-50          0.000115                NaN   \n",
       "petal width (cm)        4.189447e-40          0.000334       8.156597e-70   \n",
       "\n",
       "                   petal width (cm)  \n",
       "sepal length (cm)               NaN  \n",
       "sepal width (cm)                NaN  \n",
       "petal length (cm)               NaN  \n",
       "petal width (cm)                NaN  "
      ]
     },
     "execution_count": 2,
     "metadata": {},
     "output_type": "execute_result"
    },
    {
     "data": {
      "application/javascript": [
       "\n",
       "            setTimeout(function() {\n",
       "                var nbb_cell_id = 2;\n",
       "                var nbb_unformatted_code = \"uncorrected_p_values\";\n",
       "                var nbb_formatted_code = \"uncorrected_p_values\";\n",
       "                var nbb_cells = Jupyter.notebook.get_cells();\n",
       "                for (var i = 0; i < nbb_cells.length; ++i) {\n",
       "                    if (nbb_cells[i].input_prompt_number == nbb_cell_id) {\n",
       "                        if (nbb_cells[i].get_text() == nbb_unformatted_code) {\n",
       "                             nbb_cells[i].set_text(nbb_formatted_code);\n",
       "                        }\n",
       "                        break;\n",
       "                    }\n",
       "                }\n",
       "            }, 500);\n",
       "            "
      ],
      "text/plain": [
       "<IPython.core.display.Javascript object>"
      ]
     },
     "metadata": {},
     "output_type": "display_data"
    }
   ],
   "source": [
    "uncorrected_p_values"
   ]
  },
  {
   "cell_type": "code",
   "execution_count": 3,
   "metadata": {},
   "outputs": [
    {
     "data": {
      "text/html": [
       "<div>\n",
       "<style scoped>\n",
       "    .dataframe tbody tr th:only-of-type {\n",
       "        vertical-align: middle;\n",
       "    }\n",
       "\n",
       "    .dataframe tbody tr th {\n",
       "        vertical-align: top;\n",
       "    }\n",
       "\n",
       "    .dataframe thead th {\n",
       "        text-align: right;\n",
       "    }\n",
       "</style>\n",
       "<table border=\"1\" class=\"dataframe\">\n",
       "  <thead>\n",
       "    <tr style=\"text-align: right;\">\n",
       "      <th></th>\n",
       "      <th>sepal length (cm)</th>\n",
       "      <th>sepal width (cm)</th>\n",
       "      <th>petal length (cm)</th>\n",
       "      <th>petal width (cm)</th>\n",
       "    </tr>\n",
       "  </thead>\n",
       "  <tbody>\n",
       "    <tr>\n",
       "      <th>sepal length (cm)</th>\n",
       "      <td>NaN</td>\n",
       "      <td>NaN</td>\n",
       "      <td>NaN</td>\n",
       "      <td>NaN</td>\n",
       "    </tr>\n",
       "    <tr>\n",
       "      <th>sepal width (cm)</th>\n",
       "      <td>4.136799e-02</td>\n",
       "      <td>NaN</td>\n",
       "      <td>NaN</td>\n",
       "      <td>NaN</td>\n",
       "    </tr>\n",
       "    <tr>\n",
       "      <th>petal length (cm)</th>\n",
       "      <td>3.443087e-50</td>\n",
       "      <td>0.000115</td>\n",
       "      <td>NaN</td>\n",
       "      <td>NaN</td>\n",
       "    </tr>\n",
       "    <tr>\n",
       "      <th>petal width (cm)</th>\n",
       "      <td>4.189447e-40</td>\n",
       "      <td>0.000334</td>\n",
       "      <td>8.156597e-70</td>\n",
       "      <td>NaN</td>\n",
       "    </tr>\n",
       "  </tbody>\n",
       "</table>\n",
       "</div>"
      ],
      "text/plain": [
       "                   sepal length (cm)  sepal width (cm)  petal length (cm)  \\\n",
       "sepal length (cm)                NaN               NaN                NaN   \n",
       "sepal width (cm)        4.136799e-02               NaN                NaN   \n",
       "petal length (cm)       3.443087e-50          0.000115                NaN   \n",
       "petal width (cm)        4.189447e-40          0.000334       8.156597e-70   \n",
       "\n",
       "                   petal width (cm)  \n",
       "sepal length (cm)               NaN  \n",
       "sepal width (cm)                NaN  \n",
       "petal length (cm)               NaN  \n",
       "petal width (cm)                NaN  "
      ]
     },
     "execution_count": 3,
     "metadata": {},
     "output_type": "execute_result"
    },
    {
     "data": {
      "application/javascript": [
       "\n",
       "            setTimeout(function() {\n",
       "                var nbb_cell_id = 3;\n",
       "                var nbb_unformatted_code = \"uncorrected_p_values\";\n",
       "                var nbb_formatted_code = \"uncorrected_p_values\";\n",
       "                var nbb_cells = Jupyter.notebook.get_cells();\n",
       "                for (var i = 0; i < nbb_cells.length; ++i) {\n",
       "                    if (nbb_cells[i].input_prompt_number == nbb_cell_id) {\n",
       "                        if (nbb_cells[i].get_text() == nbb_unformatted_code) {\n",
       "                             nbb_cells[i].set_text(nbb_formatted_code);\n",
       "                        }\n",
       "                        break;\n",
       "                    }\n",
       "                }\n",
       "            }, 500);\n",
       "            "
      ],
      "text/plain": [
       "<IPython.core.display.Javascript object>"
      ]
     },
     "metadata": {},
     "output_type": "display_data"
    }
   ],
   "source": [
    "uncorrected_p_values"
   ]
  },
  {
   "cell_type": "code",
   "execution_count": 4,
   "metadata": {},
   "outputs": [
    {
     "data": {
      "text/plain": [
       "sepal length (cm)             NaN\n",
       "sepal width (cm)     4.136799e-02\n",
       "petal length (cm)    3.443087e-50\n",
       "petal width (cm)     4.189447e-40\n",
       "Name: sepal length (cm), dtype: float64"
      ]
     },
     "execution_count": 4,
     "metadata": {},
     "output_type": "execute_result"
    },
    {
     "data": {
      "application/javascript": [
       "\n",
       "            setTimeout(function() {\n",
       "                var nbb_cell_id = 4;\n",
       "                var nbb_unformatted_code = \"uncorrected_p_values[\\\"sepal length (cm)\\\"]\";\n",
       "                var nbb_formatted_code = \"uncorrected_p_values[\\\"sepal length (cm)\\\"]\";\n",
       "                var nbb_cells = Jupyter.notebook.get_cells();\n",
       "                for (var i = 0; i < nbb_cells.length; ++i) {\n",
       "                    if (nbb_cells[i].input_prompt_number == nbb_cell_id) {\n",
       "                        if (nbb_cells[i].get_text() == nbb_unformatted_code) {\n",
       "                             nbb_cells[i].set_text(nbb_formatted_code);\n",
       "                        }\n",
       "                        break;\n",
       "                    }\n",
       "                }\n",
       "            }, 500);\n",
       "            "
      ],
      "text/plain": [
       "<IPython.core.display.Javascript object>"
      ]
     },
     "metadata": {},
     "output_type": "display_data"
    }
   ],
   "source": [
    "uncorrected_p_values[\"sepal length (cm)\"]"
   ]
  },
  {
   "cell_type": "code",
   "execution_count": 5,
   "metadata": {},
   "outputs": [
    {
     "name": "stderr",
     "output_type": "stream",
     "text": [
      "C:\\ProgramData\\Anaconda3\\lib\\site-packages\\statsmodels\\stats\\multitest.py:162: RuntimeWarning: invalid value encountered in greater\n",
      "  notreject = pvals > alphacSidak_all\n",
      "C:\\ProgramData\\Anaconda3\\lib\\site-packages\\statsmodels\\stats\\multitest.py:256: RuntimeWarning: invalid value encountered in greater\n",
      "  pvals_corrected[pvals_corrected>1] = 1\n"
     ]
    },
    {
     "data": {
      "text/plain": [
       "array([[       nan,        nan,        nan,        nan],\n",
       "       [0.37169405,        nan,        nan,        nan],\n",
       "       [0.        , 0.00149908,        nan,        nan],\n",
       "       [0.        , 0.00400421, 0.        ,        nan]])"
      ]
     },
     "execution_count": 5,
     "metadata": {},
     "output_type": "execute_result"
    },
    {
     "data": {
      "application/javascript": [
       "\n",
       "            setTimeout(function() {\n",
       "                var nbb_cell_id = 5;\n",
       "                var nbb_unformatted_code = \"significant_matrix = multipletests(uncorrected_p_values.values.flatten())[1].reshape(\\n    shape\\n)\\nsignificant_matrix\";\n",
       "                var nbb_formatted_code = \"significant_matrix = multipletests(uncorrected_p_values.values.flatten())[1].reshape(\\n    shape\\n)\\nsignificant_matrix\";\n",
       "                var nbb_cells = Jupyter.notebook.get_cells();\n",
       "                for (var i = 0; i < nbb_cells.length; ++i) {\n",
       "                    if (nbb_cells[i].input_prompt_number == nbb_cell_id) {\n",
       "                        if (nbb_cells[i].get_text() == nbb_unformatted_code) {\n",
       "                             nbb_cells[i].set_text(nbb_formatted_code);\n",
       "                        }\n",
       "                        break;\n",
       "                    }\n",
       "                }\n",
       "            }, 500);\n",
       "            "
      ],
      "text/plain": [
       "<IPython.core.display.Javascript object>"
      ]
     },
     "metadata": {},
     "output_type": "display_data"
    }
   ],
   "source": [
    "significant_matrix = multipletests(uncorrected_p_values.values.flatten())[1].reshape(\n",
    "    shape\n",
    ")\n",
    "significant_matrix"
   ]
  }
 ],
 "metadata": {
  "kernelspec": {
   "display_name": "Python 3",
   "language": "python",
   "name": "python3"
  },
  "language_info": {
   "codemirror_mode": {
    "name": "ipython",
    "version": 3
   },
   "file_extension": ".py",
   "mimetype": "text/x-python",
   "name": "python",
   "nbconvert_exporter": "python",
   "pygments_lexer": "ipython3",
   "version": "3.7.6"
  }
 },
 "nbformat": 4,
 "nbformat_minor": 4
}
