{
 "cells": [
  {
   "cell_type": "markdown",
   "metadata": {},
   "source": [
    "# PCA with loadings\n",
    "\n",
    "\n",
    "This is a common tool to find out which features in your dataset create variance and in R ```biplot()``` does this by default. In Python it is more involved, but with the code below you can do the same thing.\n"
   ]
  },
  {
   "cell_type": "code",
   "execution_count": 1,
   "metadata": {},
   "outputs": [
    {
     "data": {
      "text/html": [
       "<div>\n",
       "<style scoped>\n",
       "    .dataframe tbody tr th:only-of-type {\n",
       "        vertical-align: middle;\n",
       "    }\n",
       "\n",
       "    .dataframe tbody tr th {\n",
       "        vertical-align: top;\n",
       "    }\n",
       "\n",
       "    .dataframe thead th {\n",
       "        text-align: right;\n",
       "    }\n",
       "</style>\n",
       "<table border=\"1\" class=\"dataframe\">\n",
       "  <thead>\n",
       "    <tr style=\"text-align: right;\">\n",
       "      <th></th>\n",
       "      <th>sepal length (cm)</th>\n",
       "      <th>sepal width (cm)</th>\n",
       "      <th>petal length (cm)</th>\n",
       "      <th>petal width (cm)</th>\n",
       "      <th>species</th>\n",
       "    </tr>\n",
       "  </thead>\n",
       "  <tbody>\n",
       "    <tr>\n",
       "      <th>0</th>\n",
       "      <td>5.1</td>\n",
       "      <td>3.5</td>\n",
       "      <td>1.4</td>\n",
       "      <td>0.2</td>\n",
       "      <td>setosa</td>\n",
       "    </tr>\n",
       "    <tr>\n",
       "      <th>1</th>\n",
       "      <td>4.9</td>\n",
       "      <td>3.0</td>\n",
       "      <td>1.4</td>\n",
       "      <td>0.2</td>\n",
       "      <td>setosa</td>\n",
       "    </tr>\n",
       "    <tr>\n",
       "      <th>2</th>\n",
       "      <td>4.7</td>\n",
       "      <td>3.2</td>\n",
       "      <td>1.3</td>\n",
       "      <td>0.2</td>\n",
       "      <td>setosa</td>\n",
       "    </tr>\n",
       "    <tr>\n",
       "      <th>3</th>\n",
       "      <td>4.6</td>\n",
       "      <td>3.1</td>\n",
       "      <td>1.5</td>\n",
       "      <td>0.2</td>\n",
       "      <td>setosa</td>\n",
       "    </tr>\n",
       "    <tr>\n",
       "      <th>4</th>\n",
       "      <td>5.0</td>\n",
       "      <td>3.6</td>\n",
       "      <td>1.4</td>\n",
       "      <td>0.2</td>\n",
       "      <td>setosa</td>\n",
       "    </tr>\n",
       "  </tbody>\n",
       "</table>\n",
       "</div>"
      ],
      "text/plain": [
       "   sepal length (cm)  sepal width (cm)  petal length (cm)  petal width (cm)  \\\n",
       "0                5.1               3.5                1.4               0.2   \n",
       "1                4.9               3.0                1.4               0.2   \n",
       "2                4.7               3.2                1.3               0.2   \n",
       "3                4.6               3.1                1.5               0.2   \n",
       "4                5.0               3.6                1.4               0.2   \n",
       "\n",
       "  species  \n",
       "0  setosa  \n",
       "1  setosa  \n",
       "2  setosa  \n",
       "3  setosa  \n",
       "4  setosa  "
      ]
     },
     "execution_count": 1,
     "metadata": {},
     "output_type": "execute_result"
    },
    {
     "data": {
      "application/javascript": [
       "\n",
       "            setTimeout(function() {\n",
       "                var nbb_cell_id = 1;\n",
       "                var nbb_unformatted_code = \"%load_ext nb_black\\nfrom sklearn.datasets import load_iris\\nimport pandas as pd\\nimport seaborn as sns\\nimport matplotlib.pyplot as plt\\n\\n\\niris_obj = load_iris()\\niris_df = pd.DataFrame(iris_obj.data, columns=iris_obj.feature_names)\\n\\niris_df[\\\"species\\\"] = [iris_obj.target_names[s] for s in iris_obj.target]\\niris_df.head()\";\n",
       "                var nbb_formatted_code = \"%load_ext nb_black\\nfrom sklearn.datasets import load_iris\\nimport pandas as pd\\nimport seaborn as sns\\nimport matplotlib.pyplot as plt\\n\\n\\niris_obj = load_iris()\\niris_df = pd.DataFrame(iris_obj.data, columns=iris_obj.feature_names)\\n\\niris_df[\\\"species\\\"] = [iris_obj.target_names[s] for s in iris_obj.target]\\niris_df.head()\";\n",
       "                var nbb_cells = Jupyter.notebook.get_cells();\n",
       "                for (var i = 0; i < nbb_cells.length; ++i) {\n",
       "                    if (nbb_cells[i].input_prompt_number == nbb_cell_id) {\n",
       "                        if (nbb_cells[i].get_text() == nbb_unformatted_code) {\n",
       "                             nbb_cells[i].set_text(nbb_formatted_code);\n",
       "                        }\n",
       "                        break;\n",
       "                    }\n",
       "                }\n",
       "            }, 500);\n",
       "            "
      ],
      "text/plain": [
       "<IPython.core.display.Javascript object>"
      ]
     },
     "metadata": {},
     "output_type": "display_data"
    }
   ],
   "source": [
    "%load_ext nb_black\n",
    "from sklearn.datasets import load_iris\n",
    "import pandas as pd\n",
    "import seaborn as sns\n",
    "import matplotlib.pyplot as plt\n",
    "\n",
    "\n",
    "iris_obj = load_iris()\n",
    "iris_df = pd.DataFrame(iris_obj.data, columns=iris_obj.feature_names)\n",
    "\n",
    "iris_df[\"species\"] = [iris_obj.target_names[s] for s in iris_obj.target]\n",
    "iris_df.head()"
   ]
  },
  {
   "cell_type": "code",
   "execution_count": 2,
   "metadata": {},
   "outputs": [
    {
     "data": {
      "application/javascript": [
       "\n",
       "            setTimeout(function() {\n",
       "                var nbb_cell_id = 2;\n",
       "                var nbb_unformatted_code = \"from sklearn.decomposition import PCA\\nfrom sklearn.preprocessing import StandardScaler\\nfrom sklearn.pipeline import Pipeline\\n\\npipeline = Pipeline([(\\\"scaler\\\", StandardScaler()), (\\\"pca\\\", PCA(n_components=2)),])\\n\\npca_data = pd.DataFrame(\\n    pipeline.fit_transform(iris_df.drop(columns=[\\\"species\\\"])),\\n    columns=[\\\"PC1\\\", \\\"PC2\\\"],\\n    index=iris_df.index,\\n)\\npca_data[\\\"species\\\"] = iris_df[\\\"species\\\"]\\n\\npca_step = pipeline.steps[1][1]\\nloadings = pd.DataFrame(\\n    pca_step.components_.T,\\n    columns=[\\\"PC1\\\", \\\"PC2\\\"],\\n    index=iris_df.drop(columns=[\\\"species\\\"]).columns,\\n)\";\n",
       "                var nbb_formatted_code = \"from sklearn.decomposition import PCA\\nfrom sklearn.preprocessing import StandardScaler\\nfrom sklearn.pipeline import Pipeline\\n\\npipeline = Pipeline([(\\\"scaler\\\", StandardScaler()), (\\\"pca\\\", PCA(n_components=2)),])\\n\\npca_data = pd.DataFrame(\\n    pipeline.fit_transform(iris_df.drop(columns=[\\\"species\\\"])),\\n    columns=[\\\"PC1\\\", \\\"PC2\\\"],\\n    index=iris_df.index,\\n)\\npca_data[\\\"species\\\"] = iris_df[\\\"species\\\"]\\n\\npca_step = pipeline.steps[1][1]\\nloadings = pd.DataFrame(\\n    pca_step.components_.T,\\n    columns=[\\\"PC1\\\", \\\"PC2\\\"],\\n    index=iris_df.drop(columns=[\\\"species\\\"]).columns,\\n)\";\n",
       "                var nbb_cells = Jupyter.notebook.get_cells();\n",
       "                for (var i = 0; i < nbb_cells.length; ++i) {\n",
       "                    if (nbb_cells[i].input_prompt_number == nbb_cell_id) {\n",
       "                        if (nbb_cells[i].get_text() == nbb_unformatted_code) {\n",
       "                             nbb_cells[i].set_text(nbb_formatted_code);\n",
       "                        }\n",
       "                        break;\n",
       "                    }\n",
       "                }\n",
       "            }, 500);\n",
       "            "
      ],
      "text/plain": [
       "<IPython.core.display.Javascript object>"
      ]
     },
     "metadata": {},
     "output_type": "display_data"
    }
   ],
   "source": [
    "from sklearn.decomposition import PCA\n",
    "from sklearn.preprocessing import StandardScaler\n",
    "from sklearn.pipeline import Pipeline\n",
    "\n",
    "pipeline = Pipeline([(\"scaler\", StandardScaler()), (\"pca\", PCA(n_components=2)),])\n",
    "\n",
    "pca_data = pd.DataFrame(\n",
    "    pipeline.fit_transform(iris_df.drop(columns=[\"species\"])),\n",
    "    columns=[\"PC1\", \"PC2\"],\n",
    "    index=iris_df.index,\n",
    ")\n",
    "pca_data[\"species\"] = iris_df[\"species\"]\n",
    "\n",
    "pca_step = pipeline.steps[1][1]\n",
    "loadings = pd.DataFrame(\n",
    "    pca_step.components_.T,\n",
    "    columns=[\"PC1\", \"PC2\"],\n",
    "    index=iris_df.drop(columns=[\"species\"]).columns,\n",
    ")"
   ]
  },
  {
   "cell_type": "code",
   "execution_count": 3,
   "metadata": {},
   "outputs": [
    {
     "data": {
      "text/html": [
       "<div>\n",
       "<style scoped>\n",
       "    .dataframe tbody tr th:only-of-type {\n",
       "        vertical-align: middle;\n",
       "    }\n",
       "\n",
       "    .dataframe tbody tr th {\n",
       "        vertical-align: top;\n",
       "    }\n",
       "\n",
       "    .dataframe thead th {\n",
       "        text-align: right;\n",
       "    }\n",
       "</style>\n",
       "<table border=\"1\" class=\"dataframe\">\n",
       "  <thead>\n",
       "    <tr style=\"text-align: right;\">\n",
       "      <th></th>\n",
       "      <th>PC1</th>\n",
       "      <th>PC2</th>\n",
       "    </tr>\n",
       "  </thead>\n",
       "  <tbody>\n",
       "    <tr>\n",
       "      <th>sepal length (cm)</th>\n",
       "      <td>0.521066</td>\n",
       "      <td>0.377418</td>\n",
       "    </tr>\n",
       "    <tr>\n",
       "      <th>sepal width (cm)</th>\n",
       "      <td>-0.269347</td>\n",
       "      <td>0.923296</td>\n",
       "    </tr>\n",
       "    <tr>\n",
       "      <th>petal length (cm)</th>\n",
       "      <td>0.580413</td>\n",
       "      <td>0.024492</td>\n",
       "    </tr>\n",
       "    <tr>\n",
       "      <th>petal width (cm)</th>\n",
       "      <td>0.564857</td>\n",
       "      <td>0.066942</td>\n",
       "    </tr>\n",
       "  </tbody>\n",
       "</table>\n",
       "</div>"
      ],
      "text/plain": [
       "                        PC1       PC2\n",
       "sepal length (cm)  0.521066  0.377418\n",
       "sepal width (cm)  -0.269347  0.923296\n",
       "petal length (cm)  0.580413  0.024492\n",
       "petal width (cm)   0.564857  0.066942"
      ]
     },
     "execution_count": 3,
     "metadata": {},
     "output_type": "execute_result"
    },
    {
     "data": {
      "application/javascript": [
       "\n",
       "            setTimeout(function() {\n",
       "                var nbb_cell_id = 3;\n",
       "                var nbb_unformatted_code = \"loadings\";\n",
       "                var nbb_formatted_code = \"loadings\";\n",
       "                var nbb_cells = Jupyter.notebook.get_cells();\n",
       "                for (var i = 0; i < nbb_cells.length; ++i) {\n",
       "                    if (nbb_cells[i].input_prompt_number == nbb_cell_id) {\n",
       "                        if (nbb_cells[i].get_text() == nbb_unformatted_code) {\n",
       "                             nbb_cells[i].set_text(nbb_formatted_code);\n",
       "                        }\n",
       "                        break;\n",
       "                    }\n",
       "                }\n",
       "            }, 500);\n",
       "            "
      ],
      "text/plain": [
       "<IPython.core.display.Javascript object>"
      ]
     },
     "metadata": {},
     "output_type": "display_data"
    }
   ],
   "source": [
    "loadings"
   ]
  },
  {
   "cell_type": "code",
   "execution_count": 4,
   "metadata": {},
   "outputs": [
    {
     "data": {
      "image/png": "[encoded data removed]",
      "text/plain": [
       "<Figure size 432x288 with 1 Axes>"
      ]
     },
     "metadata": {
      "needs_background": "light"
     },
     "output_type": "display_data"
    },
    {
     "data": {
      "application/javascript": [
       "\n",
       "            setTimeout(function() {\n",
       "                var nbb_cell_id = 4;\n",
       "                var nbb_unformatted_code = \"def loading_plot(\\n    coeff, labels, scale=1, colors=None, visible=None, ax=plt, arrow_size=0.5\\n):\\n    \\\"\\\"\\\"\\n    Based on this snippet from https://github.com/scentellegher/code_snippets/blob/master/pca_loadings/pca_loadings.ipynb\\n    \\\"\\\"\\\"\\n    for i, label in enumerate(labels):\\n        if visible is None or visible[i]:\\n            ax.arrow(\\n                0,\\n                0,\\n                coeff[i, 0] * scale,\\n                coeff[i, 1] * scale,\\n                head_width=arrow_size * scale,\\n                head_length=arrow_size * scale,\\n                color=\\\"#000\\\" if colors is None else colors[i],\\n            )\\n            ax.text(\\n                coeff[i, 0] * 1.15 * scale,\\n                coeff[i, 1] * 1.15 * scale,\\n                label,\\n                color=\\\"#000\\\" if colors is None else colors[i],\\n                ha=\\\"center\\\",\\n                va=\\\"center\\\",\\n            )\\n\\n\\ng = sns.scatterplot(data=pca_data, x=\\\"PC1\\\", y=\\\"PC2\\\", hue=\\\"species\\\")\\n\\n# Add loadings\\nloading_plot(loadings[[\\\"PC1\\\", \\\"PC2\\\"]].values, loadings.index, scale=2, arrow_size=0.08)\\n\\n\\n# Add variance explained by the\\ng.set_xlabel(f\\\"PC1 ({pca_step.explained_variance_ratio_[0]*100:.2f} %)\\\")\\ng.set_ylabel(f\\\"PC2 ({pca_step.explained_variance_ratio_[1]*100:.2f} %)\\\")\\n\\nplt.savefig(\\\"./img/PCA_with_loadings.png\\\", dpi=200)\\nplt.show()\";\n",
       "                var nbb_formatted_code = \"def loading_plot(\\n    coeff, labels, scale=1, colors=None, visible=None, ax=plt, arrow_size=0.5\\n):\\n    \\\"\\\"\\\"\\n    Based on this snippet from https://github.com/scentellegher/code_snippets/blob/master/pca_loadings/pca_loadings.ipynb\\n    \\\"\\\"\\\"\\n    for i, label in enumerate(labels):\\n        if visible is None or visible[i]:\\n            ax.arrow(\\n                0,\\n                0,\\n                coeff[i, 0] * scale,\\n                coeff[i, 1] * scale,\\n                head_width=arrow_size * scale,\\n                head_length=arrow_size * scale,\\n                color=\\\"#000\\\" if colors is None else colors[i],\\n            )\\n            ax.text(\\n                coeff[i, 0] * 1.15 * scale,\\n                coeff[i, 1] * 1.15 * scale,\\n                label,\\n                color=\\\"#000\\\" if colors is None else colors[i],\\n                ha=\\\"center\\\",\\n                va=\\\"center\\\",\\n            )\\n\\n\\ng = sns.scatterplot(data=pca_data, x=\\\"PC1\\\", y=\\\"PC2\\\", hue=\\\"species\\\")\\n\\n# Add loadings\\nloading_plot(loadings[[\\\"PC1\\\", \\\"PC2\\\"]].values, loadings.index, scale=2, arrow_size=0.08)\\n\\n\\n# Add variance explained by the\\ng.set_xlabel(f\\\"PC1 ({pca_step.explained_variance_ratio_[0]*100:.2f} %)\\\")\\ng.set_ylabel(f\\\"PC2 ({pca_step.explained_variance_ratio_[1]*100:.2f} %)\\\")\\n\\nplt.savefig(\\\"./img/PCA_with_loadings.png\\\", dpi=200)\\nplt.show()\";\n",
       "                var nbb_cells = Jupyter.notebook.get_cells();\n",
       "                for (var i = 0; i < nbb_cells.length; ++i) {\n",
       "                    if (nbb_cells[i].input_prompt_number == nbb_cell_id) {\n",
       "                        if (nbb_cells[i].get_text() == nbb_unformatted_code) {\n",
       "                             nbb_cells[i].set_text(nbb_formatted_code);\n",
       "                        }\n",
       "                        break;\n",
       "                    }\n",
       "                }\n",
       "            }, 500);\n",
       "            "
      ],
      "text/plain": [
       "<IPython.core.display.Javascript object>"
      ]
     },
     "metadata": {},
     "output_type": "display_data"
    }
   ],
   "source": [
    "def loading_plot(\n",
    "    coeff, labels, scale=1, colors=None, visible=None, ax=plt, arrow_size=0.5\n",
    "):\n",
    "    \"\"\"\n",
    "    Based on this snippet from https://github.com/scentellegher/code_snippets/blob/master/pca_loadings/pca_loadings.ipynb\n",
    "    \"\"\"\n",
    "    for i, label in enumerate(labels):\n",
    "        if visible is None or visible[i]:\n",
    "            ax.arrow(\n",
    "                0,\n",
    "                0,\n",
    "                coeff[i, 0] * scale,\n",
    "                coeff[i, 1] * scale,\n",
    "                head_width=arrow_size * scale,\n",
    "                head_length=arrow_size * scale,\n",
    "                color=\"#000\" if colors is None else colors[i],\n",
    "            )\n",
    "            ax.text(\n",
    "                coeff[i, 0] * 1.15 * scale,\n",
    "                coeff[i, 1] * 1.15 * scale,\n",
    "                label,\n",
    "                color=\"#000\" if colors is None else colors[i],\n",
    "                ha=\"center\",\n",
    "                va=\"center\",\n",
    "            )\n",
    "\n",
    "\n",
    "g = sns.scatterplot(data=pca_data, x=\"PC1\", y=\"PC2\", hue=\"species\")\n",
    "\n",
    "# Add loadings\n",
    "loading_plot(loadings[[\"PC1\", \"PC2\"]].values, loadings.index, scale=2, arrow_size=0.08)\n",
    "\n",
    "\n",
    "# Add variance explained by the\n",
    "g.set_xlabel(f\"PC1 ({pca_step.explained_variance_ratio_[0]*100:.2f} %)\")\n",
    "g.set_ylabel(f\"PC2 ({pca_step.explained_variance_ratio_[1]*100:.2f} %)\")\n",
    "\n",
    "plt.savefig(\"./img/PCA_with_loadings.png\", dpi=200)\n",
    "plt.show()"
   ]
  }
 ],
 "metadata": {
  "kernelspec": {
   "display_name": "Python 3",
   "language": "python",
   "name": "python3"
  },
  "language_info": {
   "codemirror_mode": {
    "name": "ipython",
    "version": 3
   },
   "file_extension": ".py",
   "mimetype": "text/x-python",
   "name": "python",
   "nbconvert_exporter": "python",
   "pygments_lexer": "ipython3",
   "version": "3.7.6"
  }
 },
 "nbformat": 4,
 "nbformat_minor": 4
}
