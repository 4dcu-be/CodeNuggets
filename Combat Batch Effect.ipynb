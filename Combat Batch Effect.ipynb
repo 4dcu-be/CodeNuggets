{
 "cells": [
  {
   "cell_type": "markdown",
   "metadata": {},
   "source": [
    "# Removing batch effects using pyCombat\n",
    "\n",
    "If you measure samples in batches on different machines or on different days batch effect can occur where performance between machines is slightly different or external factors (like ambient temperature) affect a device's readings on different days. So to overcome this step 1 is to properly randomize your samples. Step two is to get rid of the batch effect and this can be done using pyCombat.\n",
    "\n",
    "Here a few syntetic datasets are generated with a different kind of batch effect and we check if pyCombat is able to pick it up and remove it correctly."
   ]
  },
  {
   "cell_type": "code",
   "execution_count": 1,
   "metadata": {},
   "outputs": [
    {
     "data": {
      "application/javascript": [
       "\n",
       "            setTimeout(function() {\n",
       "                var nbb_cell_id = 1;\n",
       "                var nbb_unformatted_code = \"%load_ext nb_black\\n\\nimport pandas as pd\\nimport numpy as np\\nimport seaborn as sns\\nimport matplotlib.pyplot as plt\\n\\nnp.random.seed(1910)\";\n",
       "                var nbb_formatted_code = \"%load_ext nb_black\\n\\nimport pandas as pd\\nimport numpy as np\\nimport seaborn as sns\\nimport matplotlib.pyplot as plt\\n\\nnp.random.seed(1910)\";\n",
       "                var nbb_cells = Jupyter.notebook.get_cells();\n",
       "                for (var i = 0; i < nbb_cells.length; ++i) {\n",
       "                    if (nbb_cells[i].input_prompt_number == nbb_cell_id) {\n",
       "                        if (nbb_cells[i].get_text() == nbb_unformatted_code) {\n",
       "                             nbb_cells[i].set_text(nbb_formatted_code);\n",
       "                        }\n",
       "                        break;\n",
       "                    }\n",
       "                }\n",
       "            }, 500);\n",
       "            "
      ],
      "text/plain": [
       "<IPython.core.display.Javascript object>"
      ]
     },
     "metadata": {},
     "output_type": "display_data"
    }
   ],
   "source": [
    "%load_ext nb_black\n",
    "\n",
    "import pandas as pd\n",
    "import numpy as np\n",
    "import seaborn as sns\n",
    "import matplotlib.pyplot as plt\n",
    "\n",
    "np.random.seed(1910)\n"
   ]
  },
  {
   "cell_type": "code",
   "execution_count": 2,
   "metadata": {},
   "outputs": [
    {
     "data": {
      "application/javascript": [
       "\n",
       "            setTimeout(function() {\n",
       "                var nbb_cell_id = 2;\n",
       "                var nbb_unformatted_code = \"num_samples = 200  # number of samples per batch\\n\\nbatches = [\\\"Batch 1\\\"] * num_samples + [\\\"Batch 2\\\"] * num_samples\\ndf = pd.DataFrame(\\n    {\\n        \\\"batch\\\": batches,\\n        # Feature 1-3 are normal distributed, we'll shift one, multiply another and leave one untouched\\n        \\\"feature_one\\\": np.concatenate(\\n            [np.random.randn(num_samples), np.random.randn(num_samples) + 1]\\n        ),\\n        \\\"feature_two\\\": np.concatenate(\\n            [np.random.randn(num_samples), np.random.randn(num_samples) * 1.3]\\n        ),\\n        \\\"feature_three\\\": np.concatenate(\\n            [np.random.randn(num_samples), np.random.randn(num_samples)]\\n        ),\\n        # Feature 4-6 are uniformly distributed, we'll shift one, multiply another and leave one untouched\\n        \\\"feature_four\\\": np.concatenate(\\n            [np.random.rand(num_samples), np.random.rand(num_samples) + 0.2]\\n        ),\\n        \\\"feature_five\\\": np.concatenate(\\n            [np.random.rand(num_samples), np.random.rand(num_samples) * 1.3]\\n        ),\\n        \\\"feature_six\\\": np.concatenate(\\n            [np.random.rand(num_samples), np.random.rand(num_samples)]\\n        ),\\n    }\\n)\";\n",
       "                var nbb_formatted_code = \"num_samples = 200  # number of samples per batch\\n\\nbatches = [\\\"Batch 1\\\"] * num_samples + [\\\"Batch 2\\\"] * num_samples\\ndf = pd.DataFrame(\\n    {\\n        \\\"batch\\\": batches,\\n        # Feature 1-3 are normal distributed, we'll shift one, multiply another and leave one untouched\\n        \\\"feature_one\\\": np.concatenate(\\n            [np.random.randn(num_samples), np.random.randn(num_samples) + 1]\\n        ),\\n        \\\"feature_two\\\": np.concatenate(\\n            [np.random.randn(num_samples), np.random.randn(num_samples) * 1.3]\\n        ),\\n        \\\"feature_three\\\": np.concatenate(\\n            [np.random.randn(num_samples), np.random.randn(num_samples)]\\n        ),\\n        # Feature 4-6 are uniformly distributed, we'll shift one, multiply another and leave one untouched\\n        \\\"feature_four\\\": np.concatenate(\\n            [np.random.rand(num_samples), np.random.rand(num_samples) + 0.2]\\n        ),\\n        \\\"feature_five\\\": np.concatenate(\\n            [np.random.rand(num_samples), np.random.rand(num_samples) * 1.3]\\n        ),\\n        \\\"feature_six\\\": np.concatenate(\\n            [np.random.rand(num_samples), np.random.rand(num_samples)]\\n        ),\\n    }\\n)\";\n",
       "                var nbb_cells = Jupyter.notebook.get_cells();\n",
       "                for (var i = 0; i < nbb_cells.length; ++i) {\n",
       "                    if (nbb_cells[i].input_prompt_number == nbb_cell_id) {\n",
       "                        if (nbb_cells[i].get_text() == nbb_unformatted_code) {\n",
       "                             nbb_cells[i].set_text(nbb_formatted_code);\n",
       "                        }\n",
       "                        break;\n",
       "                    }\n",
       "                }\n",
       "            }, 500);\n",
       "            "
      ],
      "text/plain": [
       "<IPython.core.display.Javascript object>"
      ]
     },
     "metadata": {},
     "output_type": "display_data"
    }
   ],
   "source": [
    "num_samples = 200  # number of samples per batch\n",
    "\n",
    "batches = [\"Batch 1\"] * num_samples + [\"Batch 2\"] * num_samples\n",
    "df = pd.DataFrame(\n",
    "    {\n",
    "        \"batch\": batches,\n",
    "        # Feature 1-3 are normal distributed, we'll shift one, multiply another and leave one untouched\n",
    "        \"feature_one\": np.concatenate(\n",
    "            [np.random.randn(num_samples), np.random.randn(num_samples) + 1]\n",
    "        ),\n",
    "        \"feature_two\": np.concatenate(\n",
    "            [np.random.randn(num_samples), np.random.randn(num_samples) * 1.3]\n",
    "        ),\n",
    "        \"feature_three\": np.concatenate(\n",
    "            [np.random.randn(num_samples), np.random.randn(num_samples)]\n",
    "        ),\n",
    "        # Feature 4-6 are uniformly distributed, we'll shift one, multiply another and leave one untouched\n",
    "        \"feature_four\": np.concatenate(\n",
    "            [np.random.rand(num_samples), np.random.rand(num_samples) + 0.2]\n",
    "        ),\n",
    "        \"feature_five\": np.concatenate(\n",
    "            [np.random.rand(num_samples), np.random.rand(num_samples) * 1.3]\n",
    "        ),\n",
    "        \"feature_six\": np.concatenate(\n",
    "            [np.random.rand(num_samples), np.random.rand(num_samples)]\n",
    "        ),\n",
    "    }\n",
    ")"
   ]
  },
  {
   "cell_type": "code",
   "execution_count": 3,
   "metadata": {},
   "outputs": [
    {
     "data": {
      "text/html": [
       "<div>\n",
       "<style scoped>\n",
       "    .dataframe tbody tr th:only-of-type {\n",
       "        vertical-align: middle;\n",
       "    }\n",
       "\n",
       "    .dataframe tbody tr th {\n",
       "        vertical-align: top;\n",
       "    }\n",
       "\n",
       "    .dataframe thead th {\n",
       "        text-align: right;\n",
       "    }\n",
       "</style>\n",
       "<table border=\"1\" class=\"dataframe\">\n",
       "  <thead>\n",
       "    <tr style=\"text-align: right;\">\n",
       "      <th></th>\n",
       "      <th>batch</th>\n",
       "      <th>feature_one</th>\n",
       "      <th>feature_two</th>\n",
       "      <th>feature_three</th>\n",
       "      <th>feature_four</th>\n",
       "      <th>feature_five</th>\n",
       "      <th>feature_six</th>\n",
       "    </tr>\n",
       "  </thead>\n",
       "  <tbody>\n",
       "    <tr>\n",
       "      <th>0</th>\n",
       "      <td>Batch 1</td>\n",
       "      <td>-0.560251</td>\n",
       "      <td>-0.329007</td>\n",
       "      <td>-0.391515</td>\n",
       "      <td>0.705579</td>\n",
       "      <td>0.067287</td>\n",
       "      <td>0.318247</td>\n",
       "    </tr>\n",
       "    <tr>\n",
       "      <th>1</th>\n",
       "      <td>Batch 1</td>\n",
       "      <td>-0.676682</td>\n",
       "      <td>-1.219296</td>\n",
       "      <td>0.488081</td>\n",
       "      <td>0.940643</td>\n",
       "      <td>0.786043</td>\n",
       "      <td>0.374624</td>\n",
       "    </tr>\n",
       "    <tr>\n",
       "      <th>2</th>\n",
       "      <td>Batch 1</td>\n",
       "      <td>0.557334</td>\n",
       "      <td>-0.025515</td>\n",
       "      <td>1.478300</td>\n",
       "      <td>0.851690</td>\n",
       "      <td>0.340614</td>\n",
       "      <td>0.682563</td>\n",
       "    </tr>\n",
       "    <tr>\n",
       "      <th>399</th>\n",
       "      <td>Batch 2</td>\n",
       "      <td>0.253740</td>\n",
       "      <td>-0.100651</td>\n",
       "      <td>-0.268410</td>\n",
       "      <td>0.788433</td>\n",
       "      <td>0.740919</td>\n",
       "      <td>0.028127</td>\n",
       "    </tr>\n",
       "    <tr>\n",
       "      <th>398</th>\n",
       "      <td>Batch 2</td>\n",
       "      <td>-0.345181</td>\n",
       "      <td>-0.420646</td>\n",
       "      <td>-0.876879</td>\n",
       "      <td>0.327634</td>\n",
       "      <td>0.815336</td>\n",
       "      <td>0.783284</td>\n",
       "    </tr>\n",
       "    <tr>\n",
       "      <th>397</th>\n",
       "      <td>Batch 2</td>\n",
       "      <td>-0.189546</td>\n",
       "      <td>1.500048</td>\n",
       "      <td>-1.136106</td>\n",
       "      <td>0.536194</td>\n",
       "      <td>1.118575</td>\n",
       "      <td>0.155961</td>\n",
       "    </tr>\n",
       "  </tbody>\n",
       "</table>\n",
       "</div>"
      ],
      "text/plain": [
       "       batch  feature_one  feature_two  feature_three  feature_four  \\\n",
       "0    Batch 1    -0.560251    -0.329007      -0.391515      0.705579   \n",
       "1    Batch 1    -0.676682    -1.219296       0.488081      0.940643   \n",
       "2    Batch 1     0.557334    -0.025515       1.478300      0.851690   \n",
       "399  Batch 2     0.253740    -0.100651      -0.268410      0.788433   \n",
       "398  Batch 2    -0.345181    -0.420646      -0.876879      0.327634   \n",
       "397  Batch 2    -0.189546     1.500048      -1.136106      0.536194   \n",
       "\n",
       "     feature_five  feature_six  \n",
       "0        0.067287     0.318247  \n",
       "1        0.786043     0.374624  \n",
       "2        0.340614     0.682563  \n",
       "399      0.740919     0.028127  \n",
       "398      0.815336     0.783284  \n",
       "397      1.118575     0.155961  "
      ]
     },
     "execution_count": 3,
     "metadata": {},
     "output_type": "execute_result"
    },
    {
     "data": {
      "application/javascript": [
       "\n",
       "            setTimeout(function() {\n",
       "                var nbb_cell_id = 3;\n",
       "                var nbb_unformatted_code = \"# Look at first and last elements\\ndf.iloc[[0, 1, 2, -1, -2, -3]]\";\n",
       "                var nbb_formatted_code = \"# Look at first and last elements\\ndf.iloc[[0, 1, 2, -1, -2, -3]]\";\n",
       "                var nbb_cells = Jupyter.notebook.get_cells();\n",
       "                for (var i = 0; i < nbb_cells.length; ++i) {\n",
       "                    if (nbb_cells[i].input_prompt_number == nbb_cell_id) {\n",
       "                        if (nbb_cells[i].get_text() == nbb_unformatted_code) {\n",
       "                             nbb_cells[i].set_text(nbb_formatted_code);\n",
       "                        }\n",
       "                        break;\n",
       "                    }\n",
       "                }\n",
       "            }, 500);\n",
       "            "
      ],
      "text/plain": [
       "<IPython.core.display.Javascript object>"
      ]
     },
     "metadata": {},
     "output_type": "display_data"
    }
   ],
   "source": [
    "# Look at first and last elements\n",
    "df.iloc[[0, 1, 2, -1, -2, -3]]"
   ]
  },
  {
   "cell_type": "code",
   "execution_count": 4,
   "metadata": {},
   "outputs": [
    {
     "data": {
      "image/png": "[encoded data removed]",
      "text/plain": [
       "<Figure size 648x432 with 6 Axes>"
      ]
     },
     "metadata": {
      "needs_background": "light"
     },
     "output_type": "display_data"
    },
    {
     "data": {
      "application/javascript": [
       "\n",
       "            setTimeout(function() {\n",
       "                var nbb_cell_id = 4;\n",
       "                var nbb_unformatted_code = \"long_df = df.melt(id_vars=[\\\"batch\\\"])\\n\\ng = sns.FacetGrid(\\n    long_df, col=\\\"variable\\\", height=3, aspect=1, sharex=False, col_wrap=3,\\n)\\ng.map_dataframe(sns.histplot, x=\\\"value\\\", hue=\\\"batch\\\")\\nplt.savefig(\\\"./img/pycombat_synthetic_dataset.png\\\", dpi=200)\\nplt.show()\";\n",
       "                var nbb_formatted_code = \"long_df = df.melt(id_vars=[\\\"batch\\\"])\\n\\ng = sns.FacetGrid(\\n    long_df, col=\\\"variable\\\", height=3, aspect=1, sharex=False, col_wrap=3,\\n)\\ng.map_dataframe(sns.histplot, x=\\\"value\\\", hue=\\\"batch\\\")\\nplt.savefig(\\\"./img/pycombat_synthetic_dataset.png\\\", dpi=200)\\nplt.show()\";\n",
       "                var nbb_cells = Jupyter.notebook.get_cells();\n",
       "                for (var i = 0; i < nbb_cells.length; ++i) {\n",
       "                    if (nbb_cells[i].input_prompt_number == nbb_cell_id) {\n",
       "                        if (nbb_cells[i].get_text() == nbb_unformatted_code) {\n",
       "                             nbb_cells[i].set_text(nbb_formatted_code);\n",
       "                        }\n",
       "                        break;\n",
       "                    }\n",
       "                }\n",
       "            }, 500);\n",
       "            "
      ],
      "text/plain": [
       "<IPython.core.display.Javascript object>"
      ]
     },
     "metadata": {},
     "output_type": "display_data"
    }
   ],
   "source": [
    "long_df = df.melt(id_vars=[\"batch\"])\n",
    "\n",
    "g = sns.FacetGrid(\n",
    "    long_df, col=\"variable\", height=3, aspect=1, sharex=False, col_wrap=3,\n",
    ")\n",
    "g.map_dataframe(sns.histplot, x=\"value\", hue=\"batch\")\n",
    "plt.savefig(\"./img/pycombat_synthetic_dataset.png\", dpi=200)\n",
    "plt.show()"
   ]
  },
  {
   "cell_type": "code",
   "execution_count": 5,
   "metadata": {},
   "outputs": [
    {
     "name": "stdout",
     "output_type": "stream",
     "text": [
      "Found 2 batches.\n",
      "Adjusting for 0 covariate(s) or covariate level(s).\n",
      "Standardizing Data across genes.\n",
      "Fitting L/S model and finding priors.\n",
      "Finding parametric adjustments.\n",
      "Adjusting the Data\n"
     ]
    },
    {
     "data": {
      "text/html": [
       "<div>\n",
       "<style scoped>\n",
       "    .dataframe tbody tr th:only-of-type {\n",
       "        vertical-align: middle;\n",
       "    }\n",
       "\n",
       "    .dataframe tbody tr th {\n",
       "        vertical-align: top;\n",
       "    }\n",
       "\n",
       "    .dataframe thead th {\n",
       "        text-align: right;\n",
       "    }\n",
       "</style>\n",
       "<table border=\"1\" class=\"dataframe\">\n",
       "  <thead>\n",
       "    <tr style=\"text-align: right;\">\n",
       "      <th></th>\n",
       "      <th>feature_one</th>\n",
       "      <th>feature_two</th>\n",
       "      <th>feature_three</th>\n",
       "      <th>feature_four</th>\n",
       "      <th>feature_five</th>\n",
       "      <th>feature_six</th>\n",
       "    </tr>\n",
       "  </thead>\n",
       "  <tbody>\n",
       "    <tr>\n",
       "      <th>0</th>\n",
       "      <td>-0.062237</td>\n",
       "      <td>-0.276713</td>\n",
       "      <td>-0.429908</td>\n",
       "      <td>0.790984</td>\n",
       "      <td>0.089940</td>\n",
       "      <td>0.298606</td>\n",
       "    </tr>\n",
       "    <tr>\n",
       "      <th>1</th>\n",
       "      <td>-0.180598</td>\n",
       "      <td>-1.270888</td>\n",
       "      <td>0.458374</td>\n",
       "      <td>1.035210</td>\n",
       "      <td>0.921394</td>\n",
       "      <td>0.356112</td>\n",
       "    </tr>\n",
       "    <tr>\n",
       "      <th>2</th>\n",
       "      <td>1.073879</td>\n",
       "      <td>0.062193</td>\n",
       "      <td>1.458372</td>\n",
       "      <td>0.942790</td>\n",
       "      <td>0.406123</td>\n",
       "      <td>0.670221</td>\n",
       "    </tr>\n",
       "    <tr>\n",
       "      <th>3</th>\n",
       "      <td>-1.299430</td>\n",
       "      <td>-1.993188</td>\n",
       "      <td>1.117924</td>\n",
       "      <td>0.775037</td>\n",
       "      <td>0.635035</td>\n",
       "      <td>0.022828</td>\n",
       "    </tr>\n",
       "    <tr>\n",
       "      <th>4</th>\n",
       "      <td>2.080704</td>\n",
       "      <td>0.590844</td>\n",
       "      <td>0.470759</td>\n",
       "      <td>0.395933</td>\n",
       "      <td>0.626676</td>\n",
       "      <td>0.781287</td>\n",
       "    </tr>\n",
       "  </tbody>\n",
       "</table>\n",
       "</div>"
      ],
      "text/plain": [
       "   feature_one  feature_two  feature_three  feature_four  feature_five  \\\n",
       "0    -0.062237    -0.276713      -0.429908      0.790984      0.089940   \n",
       "1    -0.180598    -1.270888       0.458374      1.035210      0.921394   \n",
       "2     1.073879     0.062193       1.458372      0.942790      0.406123   \n",
       "3    -1.299430    -1.993188       1.117924      0.775037      0.635035   \n",
       "4     2.080704     0.590844       0.470759      0.395933      0.626676   \n",
       "\n",
       "   feature_six  \n",
       "0     0.298606  \n",
       "1     0.356112  \n",
       "2     0.670221  \n",
       "3     0.022828  \n",
       "4     0.781287  "
      ]
     },
     "execution_count": 5,
     "metadata": {},
     "output_type": "execute_result"
    },
    {
     "data": {
      "application/javascript": [
       "\n",
       "            setTimeout(function() {\n",
       "                var nbb_cell_id = 5;\n",
       "                var nbb_unformatted_code = \"from combat.pycombat import pycombat\\n\\ncorrected_df = pycombat(df.drop(columns=[\\\"batch\\\"]).transpose(), df[\\\"batch\\\"]).transpose()\\ncorrected_df.head()\";\n",
       "                var nbb_formatted_code = \"from combat.pycombat import pycombat\\n\\ncorrected_df = pycombat(df.drop(columns=[\\\"batch\\\"]).transpose(), df[\\\"batch\\\"]).transpose()\\ncorrected_df.head()\";\n",
       "                var nbb_cells = Jupyter.notebook.get_cells();\n",
       "                for (var i = 0; i < nbb_cells.length; ++i) {\n",
       "                    if (nbb_cells[i].input_prompt_number == nbb_cell_id) {\n",
       "                        if (nbb_cells[i].get_text() == nbb_unformatted_code) {\n",
       "                             nbb_cells[i].set_text(nbb_formatted_code);\n",
       "                        }\n",
       "                        break;\n",
       "                    }\n",
       "                }\n",
       "            }, 500);\n",
       "            "
      ],
      "text/plain": [
       "<IPython.core.display.Javascript object>"
      ]
     },
     "metadata": {},
     "output_type": "display_data"
    }
   ],
   "source": [
    "from combat.pycombat import pycombat\n",
    "\n",
    "corrected_df = pycombat(df.drop(columns=[\"batch\"]).transpose(), df[\"batch\"]).transpose()\n",
    "corrected_df.head()"
   ]
  },
  {
   "cell_type": "code",
   "execution_count": 6,
   "metadata": {},
   "outputs": [
    {
     "data": {
      "text/html": [
       "<div>\n",
       "<style scoped>\n",
       "    .dataframe tbody tr th:only-of-type {\n",
       "        vertical-align: middle;\n",
       "    }\n",
       "\n",
       "    .dataframe tbody tr th {\n",
       "        vertical-align: top;\n",
       "    }\n",
       "\n",
       "    .dataframe thead th {\n",
       "        text-align: right;\n",
       "    }\n",
       "</style>\n",
       "<table border=\"1\" class=\"dataframe\">\n",
       "  <thead>\n",
       "    <tr style=\"text-align: right;\">\n",
       "      <th></th>\n",
       "      <th>variable</th>\n",
       "      <th>value</th>\n",
       "    </tr>\n",
       "  </thead>\n",
       "  <tbody>\n",
       "    <tr>\n",
       "      <th>0</th>\n",
       "      <td>feature_one</td>\n",
       "      <td>-0.062237</td>\n",
       "    </tr>\n",
       "    <tr>\n",
       "      <th>1</th>\n",
       "      <td>feature_one</td>\n",
       "      <td>-0.180598</td>\n",
       "    </tr>\n",
       "    <tr>\n",
       "      <th>2</th>\n",
       "      <td>feature_one</td>\n",
       "      <td>1.073879</td>\n",
       "    </tr>\n",
       "    <tr>\n",
       "      <th>3</th>\n",
       "      <td>feature_one</td>\n",
       "      <td>-1.299430</td>\n",
       "    </tr>\n",
       "    <tr>\n",
       "      <th>4</th>\n",
       "      <td>feature_one</td>\n",
       "      <td>2.080704</td>\n",
       "    </tr>\n",
       "    <tr>\n",
       "      <th>...</th>\n",
       "      <td>...</td>\n",
       "      <td>...</td>\n",
       "    </tr>\n",
       "    <tr>\n",
       "      <th>2395</th>\n",
       "      <td>feature_six</td>\n",
       "      <td>0.858274</td>\n",
       "    </tr>\n",
       "    <tr>\n",
       "      <th>2396</th>\n",
       "      <td>feature_six</td>\n",
       "      <td>0.248279</td>\n",
       "    </tr>\n",
       "    <tr>\n",
       "      <th>2397</th>\n",
       "      <td>feature_six</td>\n",
       "      <td>0.178785</td>\n",
       "    </tr>\n",
       "    <tr>\n",
       "      <th>2398</th>\n",
       "      <td>feature_six</td>\n",
       "      <td>0.791470</td>\n",
       "    </tr>\n",
       "    <tr>\n",
       "      <th>2399</th>\n",
       "      <td>feature_six</td>\n",
       "      <td>0.053935</td>\n",
       "    </tr>\n",
       "  </tbody>\n",
       "</table>\n",
       "<p>2400 rows × 2 columns</p>\n",
       "</div>"
      ],
      "text/plain": [
       "         variable     value\n",
       "0     feature_one -0.062237\n",
       "1     feature_one -0.180598\n",
       "2     feature_one  1.073879\n",
       "3     feature_one -1.299430\n",
       "4     feature_one  2.080704\n",
       "...           ...       ...\n",
       "2395  feature_six  0.858274\n",
       "2396  feature_six  0.248279\n",
       "2397  feature_six  0.178785\n",
       "2398  feature_six  0.791470\n",
       "2399  feature_six  0.053935\n",
       "\n",
       "[2400 rows x 2 columns]"
      ]
     },
     "execution_count": 6,
     "metadata": {},
     "output_type": "execute_result"
    },
    {
     "data": {
      "application/javascript": [
       "\n",
       "            setTimeout(function() {\n",
       "                var nbb_cell_id = 6;\n",
       "                var nbb_unformatted_code = \"long_corrected_df = corrected_df.melt()\\nlong_corrected_df\";\n",
       "                var nbb_formatted_code = \"long_corrected_df = corrected_df.melt()\\nlong_corrected_df\";\n",
       "                var nbb_cells = Jupyter.notebook.get_cells();\n",
       "                for (var i = 0; i < nbb_cells.length; ++i) {\n",
       "                    if (nbb_cells[i].input_prompt_number == nbb_cell_id) {\n",
       "                        if (nbb_cells[i].get_text() == nbb_unformatted_code) {\n",
       "                             nbb_cells[i].set_text(nbb_formatted_code);\n",
       "                        }\n",
       "                        break;\n",
       "                    }\n",
       "                }\n",
       "            }, 500);\n",
       "            "
      ],
      "text/plain": [
       "<IPython.core.display.Javascript object>"
      ]
     },
     "metadata": {},
     "output_type": "display_data"
    }
   ],
   "source": [
    "long_corrected_df = corrected_df.melt()\n",
    "long_corrected_df"
   ]
  },
  {
   "cell_type": "code",
   "execution_count": 7,
   "metadata": {},
   "outputs": [
    {
     "data": {
      "text/html": [
       "<div>\n",
       "<style scoped>\n",
       "    .dataframe tbody tr th:only-of-type {\n",
       "        vertical-align: middle;\n",
       "    }\n",
       "\n",
       "    .dataframe tbody tr th {\n",
       "        vertical-align: top;\n",
       "    }\n",
       "\n",
       "    .dataframe thead th {\n",
       "        text-align: right;\n",
       "    }\n",
       "</style>\n",
       "<table border=\"1\" class=\"dataframe\">\n",
       "  <thead>\n",
       "    <tr style=\"text-align: right;\">\n",
       "      <th></th>\n",
       "      <th>batch</th>\n",
       "      <th>variable_raw</th>\n",
       "      <th>value_raw</th>\n",
       "      <th>variable_corrected</th>\n",
       "      <th>value_corrected</th>\n",
       "    </tr>\n",
       "  </thead>\n",
       "  <tbody>\n",
       "    <tr>\n",
       "      <th>0</th>\n",
       "      <td>Batch 1</td>\n",
       "      <td>feature_one</td>\n",
       "      <td>-0.560251</td>\n",
       "      <td>feature_one</td>\n",
       "      <td>-0.062237</td>\n",
       "    </tr>\n",
       "    <tr>\n",
       "      <th>1</th>\n",
       "      <td>Batch 1</td>\n",
       "      <td>feature_one</td>\n",
       "      <td>-0.676682</td>\n",
       "      <td>feature_one</td>\n",
       "      <td>-0.180598</td>\n",
       "    </tr>\n",
       "    <tr>\n",
       "      <th>2</th>\n",
       "      <td>Batch 1</td>\n",
       "      <td>feature_one</td>\n",
       "      <td>0.557334</td>\n",
       "      <td>feature_one</td>\n",
       "      <td>1.073879</td>\n",
       "    </tr>\n",
       "    <tr>\n",
       "      <th>3</th>\n",
       "      <td>Batch 1</td>\n",
       "      <td>feature_one</td>\n",
       "      <td>-1.777265</td>\n",
       "      <td>feature_one</td>\n",
       "      <td>-1.299430</td>\n",
       "    </tr>\n",
       "    <tr>\n",
       "      <th>4</th>\n",
       "      <td>Batch 1</td>\n",
       "      <td>feature_one</td>\n",
       "      <td>1.547736</td>\n",
       "      <td>feature_one</td>\n",
       "      <td>2.080704</td>\n",
       "    </tr>\n",
       "    <tr>\n",
       "      <th>...</th>\n",
       "      <td>...</td>\n",
       "      <td>...</td>\n",
       "      <td>...</td>\n",
       "      <td>...</td>\n",
       "      <td>...</td>\n",
       "    </tr>\n",
       "    <tr>\n",
       "      <th>2395</th>\n",
       "      <td>Batch 2</td>\n",
       "      <td>feature_six</td>\n",
       "      <td>0.851684</td>\n",
       "      <td>feature_six</td>\n",
       "      <td>0.858274</td>\n",
       "    </tr>\n",
       "    <tr>\n",
       "      <th>2396</th>\n",
       "      <td>Batch 2</td>\n",
       "      <td>feature_six</td>\n",
       "      <td>0.227115</td>\n",
       "      <td>feature_six</td>\n",
       "      <td>0.248279</td>\n",
       "    </tr>\n",
       "    <tr>\n",
       "      <th>2397</th>\n",
       "      <td>Batch 2</td>\n",
       "      <td>feature_six</td>\n",
       "      <td>0.155961</td>\n",
       "      <td>feature_six</td>\n",
       "      <td>0.178785</td>\n",
       "    </tr>\n",
       "    <tr>\n",
       "      <th>2398</th>\n",
       "      <td>Batch 2</td>\n",
       "      <td>feature_six</td>\n",
       "      <td>0.783284</td>\n",
       "      <td>feature_six</td>\n",
       "      <td>0.791470</td>\n",
       "    </tr>\n",
       "    <tr>\n",
       "      <th>2399</th>\n",
       "      <td>Batch 2</td>\n",
       "      <td>feature_six</td>\n",
       "      <td>0.028127</td>\n",
       "      <td>feature_six</td>\n",
       "      <td>0.053935</td>\n",
       "    </tr>\n",
       "  </tbody>\n",
       "</table>\n",
       "<p>2400 rows × 5 columns</p>\n",
       "</div>"
      ],
      "text/plain": [
       "        batch variable_raw  value_raw variable_corrected  value_corrected\n",
       "0     Batch 1  feature_one  -0.560251        feature_one        -0.062237\n",
       "1     Batch 1  feature_one  -0.676682        feature_one        -0.180598\n",
       "2     Batch 1  feature_one   0.557334        feature_one         1.073879\n",
       "3     Batch 1  feature_one  -1.777265        feature_one        -1.299430\n",
       "4     Batch 1  feature_one   1.547736        feature_one         2.080704\n",
       "...       ...          ...        ...                ...              ...\n",
       "2395  Batch 2  feature_six   0.851684        feature_six         0.858274\n",
       "2396  Batch 2  feature_six   0.227115        feature_six         0.248279\n",
       "2397  Batch 2  feature_six   0.155961        feature_six         0.178785\n",
       "2398  Batch 2  feature_six   0.783284        feature_six         0.791470\n",
       "2399  Batch 2  feature_six   0.028127        feature_six         0.053935\n",
       "\n",
       "[2400 rows x 5 columns]"
      ]
     },
     "execution_count": 7,
     "metadata": {},
     "output_type": "execute_result"
    },
    {
     "data": {
      "application/javascript": [
       "\n",
       "            setTimeout(function() {\n",
       "                var nbb_cell_id = 7;\n",
       "                var nbb_unformatted_code = \"merged_df = pd.merge(\\n    long_df,\\n    long_corrected_df,\\n    left_index=True,\\n    right_index=True,\\n    suffixes=(\\\"_raw\\\", \\\"_corrected\\\"),\\n)\\nmerged_df\";\n",
       "                var nbb_formatted_code = \"merged_df = pd.merge(\\n    long_df,\\n    long_corrected_df,\\n    left_index=True,\\n    right_index=True,\\n    suffixes=(\\\"_raw\\\", \\\"_corrected\\\"),\\n)\\nmerged_df\";\n",
       "                var nbb_cells = Jupyter.notebook.get_cells();\n",
       "                for (var i = 0; i < nbb_cells.length; ++i) {\n",
       "                    if (nbb_cells[i].input_prompt_number == nbb_cell_id) {\n",
       "                        if (nbb_cells[i].get_text() == nbb_unformatted_code) {\n",
       "                             nbb_cells[i].set_text(nbb_formatted_code);\n",
       "                        }\n",
       "                        break;\n",
       "                    }\n",
       "                }\n",
       "            }, 500);\n",
       "            "
      ],
      "text/plain": [
       "<IPython.core.display.Javascript object>"
      ]
     },
     "metadata": {},
     "output_type": "display_data"
    }
   ],
   "source": [
    "merged_df = pd.merge(\n",
    "    long_df,\n",
    "    long_corrected_df,\n",
    "    left_index=True,\n",
    "    right_index=True,\n",
    "    suffixes=(\"_raw\", \"_corrected\"),\n",
    ")\n",
    "merged_df"
   ]
  },
  {
   "cell_type": "code",
   "execution_count": 8,
   "metadata": {},
   "outputs": [
    {
     "data": {
      "image/png": "[encoded data removed]",
      "text/plain": [
       "<Figure size 648x432 with 6 Axes>"
      ]
     },
     "metadata": {
      "needs_background": "light"
     },
     "output_type": "display_data"
    },
    {
     "data": {
      "application/javascript": [
       "\n",
       "            setTimeout(function() {\n",
       "                var nbb_cell_id = 8;\n",
       "                var nbb_unformatted_code = \"g = sns.FacetGrid(\\n    merged_df,\\n    col=\\\"variable_raw\\\",\\n    height=3,\\n    aspect=1,\\n    sharex=False,\\n    sharey=False,\\n    col_wrap=3,\\n)\\ng.map_dataframe(sns.scatterplot, x=\\\"value_raw\\\", y=\\\"value_corrected\\\", hue=\\\"batch\\\")\\nplt.savefig(\\\"./img/pycombat_corrections.png\\\", dpi=200)\\nplt.show()\";\n",
       "                var nbb_formatted_code = \"g = sns.FacetGrid(\\n    merged_df,\\n    col=\\\"variable_raw\\\",\\n    height=3,\\n    aspect=1,\\n    sharex=False,\\n    sharey=False,\\n    col_wrap=3,\\n)\\ng.map_dataframe(sns.scatterplot, x=\\\"value_raw\\\", y=\\\"value_corrected\\\", hue=\\\"batch\\\")\\nplt.savefig(\\\"./img/pycombat_corrections.png\\\", dpi=200)\\nplt.show()\";\n",
       "                var nbb_cells = Jupyter.notebook.get_cells();\n",
       "                for (var i = 0; i < nbb_cells.length; ++i) {\n",
       "                    if (nbb_cells[i].input_prompt_number == nbb_cell_id) {\n",
       "                        if (nbb_cells[i].get_text() == nbb_unformatted_code) {\n",
       "                             nbb_cells[i].set_text(nbb_formatted_code);\n",
       "                        }\n",
       "                        break;\n",
       "                    }\n",
       "                }\n",
       "            }, 500);\n",
       "            "
      ],
      "text/plain": [
       "<IPython.core.display.Javascript object>"
      ]
     },
     "metadata": {},
     "output_type": "display_data"
    }
   ],
   "source": [
    "g = sns.FacetGrid(\n",
    "    merged_df,\n",
    "    col=\"variable_raw\",\n",
    "    height=3,\n",
    "    aspect=1,\n",
    "    sharex=False,\n",
    "    sharey=False,\n",
    "    col_wrap=3,\n",
    ")\n",
    "g.map_dataframe(sns.scatterplot, x=\"value_raw\", y=\"value_corrected\", hue=\"batch\")\n",
    "plt.savefig(\"./img/pycombat_corrections.png\", dpi=200)\n",
    "plt.show()"
   ]
  }
 ],
 "metadata": {
  "kernelspec": {
   "display_name": "Python 3",
   "language": "python",
   "name": "python3"
  },
  "language_info": {
   "codemirror_mode": {
    "name": "ipython",
    "version": 3
   },
   "file_extension": ".py",
   "mimetype": "text/x-python",
   "name": "python",
   "nbconvert_exporter": "python",
   "pygments_lexer": "ipython3",
   "version": "3.7.6"
  }
 },
 "nbformat": 4,
 "nbformat_minor": 4
}
